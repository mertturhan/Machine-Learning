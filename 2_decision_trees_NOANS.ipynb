{
 "cells": [
  {
   "cell_type": "markdown",
   "metadata": {},
   "source": [
    "# Decision trees \n",
    "In this notebook, you will implement decision tree algorithm on different datasets. This notebook contains the following parts:\n",
    "\n",
    "1) Loading a dataset\n",
    "\n",
    "2) Implementing a decision tree using the Scikit-learn library\n",
    "\n",
    "3) Advanced section: Implementing a decision tree from scratch"
   ]
  },
  {
   "cell_type": "code",
   "execution_count": 3,
   "metadata": {},
   "outputs": [],
   "source": [
    "import pandas as pd\n",
    "from sklearn.datasets import load_iris\n",
    "from sklearn.model_selection import train_test_split\n",
    "from sklearn.metrics import accuracy_score\n",
    "from sklearn.tree import DecisionTreeClassifier  \n",
    "from sklearn.tree import plot_tree\n",
    "import warnings\n",
    "warnings.filterwarnings(\"ignore\")"
   ]
  },
  {
   "cell_type": "markdown",
   "metadata": {},
   "source": [
    "## 1) Loading and inspecting a dataset\n",
    "\n",
    "Scikit-learn comes with a few standard toy datasets. You can use them without downloading any file from external website. See https://scikit-learn.org/stable/datasets/toy_dataset.html#toy-datasets\n",
    "\n",
    "Here, we will use iris dataset, https://scikit-learn.org/stable/modules/generated/sklearn.datasets.load_iris.html\n",
    "\n",
    "The code below loads the iris dataset and creates a new pandas dataframe (named `df` that we will use in this example).\n",
    "\n",
    "\n",
    "This data has the following features:\n",
    "- sepal_length: Sepal length, in centimeters\n",
    "- sepal_width: Sepal width, in centimeters\n",
    "- petal_length: Petal length, in centimeters\n",
    "- petal_width: Petal width, in centimeters\n",
    "\n",
    "And the target is the type of the flower: *'Setosa'*, *'Versicolor'*, or *'Virginica'*. These are coded as {0, 1, 2} in the `target` column and there are 50 instances of each.\n",
    "\n"
   ]
  },
  {
   "cell_type": "code",
   "execution_count": 4,
   "metadata": {},
   "outputs": [],
   "source": [
    "raw_data = load_iris()\n",
    "df = pd.DataFrame(raw_data.data, columns=raw_data.feature_names)\n",
    "df['target'] = raw_data.target"
   ]
  },
  {
   "cell_type": "code",
   "execution_count": 5,
   "metadata": {},
   "outputs": [
    {
     "name": "stdout",
     "output_type": "stream",
     "text": [
      "<class 'pandas.core.frame.DataFrame'>\n",
      "RangeIndex: 150 entries, 0 to 149\n",
      "Data columns (total 5 columns):\n",
      " #   Column             Non-Null Count  Dtype  \n",
      "---  ------             --------------  -----  \n",
      " 0   sepal length (cm)  150 non-null    float64\n",
      " 1   sepal width (cm)   150 non-null    float64\n",
      " 2   petal length (cm)  150 non-null    float64\n",
      " 3   petal width (cm)   150 non-null    float64\n",
      " 4   target             150 non-null    int64  \n",
      "dtypes: float64(4), int64(1)\n",
      "memory usage: 6.0 KB\n"
     ]
    }
   ],
   "source": [
    "df.info() # details on the size and variables in this dataframe"
   ]
  },
  {
   "cell_type": "code",
   "execution_count": 7,
   "metadata": {},
   "outputs": [
    {
     "data": {
      "text/html": [
       "<div>\n",
       "<style scoped>\n",
       "    .dataframe tbody tr th:only-of-type {\n",
       "        vertical-align: middle;\n",
       "    }\n",
       "\n",
       "    .dataframe tbody tr th {\n",
       "        vertical-align: top;\n",
       "    }\n",
       "\n",
       "    .dataframe thead th {\n",
       "        text-align: right;\n",
       "    }\n",
       "</style>\n",
       "<table border=\"1\" class=\"dataframe\">\n",
       "  <thead>\n",
       "    <tr style=\"text-align: right;\">\n",
       "      <th></th>\n",
       "      <th>sepal length (cm)</th>\n",
       "      <th>sepal width (cm)</th>\n",
       "      <th>petal length (cm)</th>\n",
       "      <th>petal width (cm)</th>\n",
       "      <th>target</th>\n",
       "    </tr>\n",
       "  </thead>\n",
       "  <tbody>\n",
       "    <tr>\n",
       "      <th>0</th>\n",
       "      <td>5.1</td>\n",
       "      <td>3.5</td>\n",
       "      <td>1.4</td>\n",
       "      <td>0.2</td>\n",
       "      <td>0</td>\n",
       "    </tr>\n",
       "    <tr>\n",
       "      <th>1</th>\n",
       "      <td>4.9</td>\n",
       "      <td>3.0</td>\n",
       "      <td>1.4</td>\n",
       "      <td>0.2</td>\n",
       "      <td>0</td>\n",
       "    </tr>\n",
       "    <tr>\n",
       "      <th>2</th>\n",
       "      <td>4.7</td>\n",
       "      <td>3.2</td>\n",
       "      <td>1.3</td>\n",
       "      <td>0.2</td>\n",
       "      <td>0</td>\n",
       "    </tr>\n",
       "    <tr>\n",
       "      <th>3</th>\n",
       "      <td>4.6</td>\n",
       "      <td>3.1</td>\n",
       "      <td>1.5</td>\n",
       "      <td>0.2</td>\n",
       "      <td>0</td>\n",
       "    </tr>\n",
       "    <tr>\n",
       "      <th>4</th>\n",
       "      <td>5.0</td>\n",
       "      <td>3.6</td>\n",
       "      <td>1.4</td>\n",
       "      <td>0.2</td>\n",
       "      <td>0</td>\n",
       "    </tr>\n",
       "  </tbody>\n",
       "</table>\n",
       "</div>"
      ],
      "text/plain": [
       "   sepal length (cm)  sepal width (cm)  petal length (cm)  petal width (cm)  \\\n",
       "0                5.1               3.5                1.4               0.2   \n",
       "1                4.9               3.0                1.4               0.2   \n",
       "2                4.7               3.2                1.3               0.2   \n",
       "3                4.6               3.1                1.5               0.2   \n",
       "4                5.0               3.6                1.4               0.2   \n",
       "\n",
       "   target  \n",
       "0       0  \n",
       "1       0  \n",
       "2       0  \n",
       "3       0  \n",
       "4       0  "
      ]
     },
     "execution_count": 7,
     "metadata": {},
     "output_type": "execute_result"
    }
   ],
   "source": [
    "df.head() # print the first few rows of this data"
   ]
  },
  {
   "cell_type": "markdown",
   "metadata": {},
   "source": [
    "Now we will select some data to use for training and the rest will be for testing. In this example we are not creating a separate validation/development set, but for a real project that that would be important. \n",
    "\n",
    "We want to create two sets: a training set (70% of the data) and a test set (30%):"
   ]
  },
  {
   "cell_type": "code",
   "execution_count": 16,
   "metadata": {},
   "outputs": [],
   "source": [
    "# see above: from sklearn.model_selection import train_test_split\n",
    "\n",
    "X_train, X_test, y_train, y_test = train_test_split(df[raw_data.feature_names], \n",
    "                                                    df['target'], \n",
    "                                                    test_size=0.3, \n",
    "                                                    random_state=0)"
   ]
  },
  {
   "cell_type": "markdown",
   "metadata": {},
   "source": [
    "We can check that the resulting dimensionality of these subsets are correct:"
   ]
  },
  {
   "cell_type": "code",
   "execution_count": 17,
   "metadata": {},
   "outputs": [
    {
     "name": "stdout",
     "output_type": "stream",
     "text": [
      "Train:  105 105\n",
      "Test:   45 45\n",
      "All rows accounted for: 150 150\n"
     ]
    }
   ],
   "source": [
    "# The number of rows in the training features and training labels are equal\n",
    "print(\"Train: \", X_train.shape[0], y_train.shape[0])\n",
    "\n",
    "# The number of rows in the testing features and testing labels are equal\n",
    "print(\"Test:  \", X_test.shape[0], y_test.shape[0])\n",
    "\n",
    "# The number of rows in the training plus testing is equal to the rows in the full dataset\n",
    "print(\"All rows accounted for:\", X_train.shape[0] + X_test.shape[0], df.shape[0])\n"
   ]
  },
  {
   "cell_type": "code",
   "execution_count": 18,
   "metadata": {},
   "outputs": [
    {
     "name": "stdout",
     "output_type": "stream",
     "text": [
      "4 4 5\n"
     ]
    }
   ],
   "source": [
    "# The number of feature columns in the training and test set matches, \n",
    "# and contains one fewer column than the full dataset:\n",
    "print(X_train.shape[1], X_test.shape[1], df.shape[1])"
   ]
  },
  {
   "cell_type": "code",
   "execution_count": 19,
   "metadata": {},
   "outputs": [
    {
     "name": "stdout",
     "output_type": "stream",
     "text": [
      "1 1\n"
     ]
    }
   ],
   "source": [
    "# The training and testing labels don't have columns, they are only one dimension:\n",
    "print(y_train.ndim, y_test.ndim)"
   ]
  },
  {
   "cell_type": "markdown",
   "metadata": {},
   "source": [
    "#### Thought question: \n",
    "\n",
    "To apply a decision tree to this data, do we need to standardize these features? Why or why not? What would need to change to change your answer to this question?"
   ]
  },
  {
   "cell_type": "markdown",
   "metadata": {},
   "source": [
    "## 2) Implementing a decision tree using the Scikit-learn library\n",
    "\n",
    "\n",
    "When training decision trees, we want to add nodes to efficiently split the data. The eventual goal is to learn a model that makes proper classifications for new instances. In other words, one which exhibits good generalization.\n",
    "\n",
    "### Decision tree structure\n",
    "\n",
    "Decision trees are usually full binary trees which means that every node has either 0 or 2 children. If it has 0 then it is a leaf node. The figure below is annotated with some of the terminology used when talking about trees.\n",
    "\n",
    "<img src=\"https://www.tutorialspoint.com/data_structures_algorithms/images/binary_tree.jpg\" alt=\"Tree structure\" width=\"50%\">\n",
    "\n",
    "\n"
   ]
  },
  {
   "cell_type": "markdown",
   "metadata": {},
   "source": [
    "### Exercise 1 _ \n",
    "\n",
    "#### Part 1 _ Initialize a Decision Tree \n",
    "\n",
    "In order to build a scikit-learn model, it first must be initalized. For those following the Data Processing Advanced course, this is object-oriented programming. The initialization is creating an object (in this case a `DecisionTreeClassifier`) that has attached functions that we will use to train the model based on data and then make predictions. Initialization does not do these steps, it just creates the `DecisionTreeClassifier` object.\n",
    "\n",
    "Documentation on the `DecisionTreeClassifier` object: https://scikit-learn.org/stable/modules/generated/sklearn.tree.DecisionTreeClassifier.html"
   ]
  },
  {
   "cell_type": "code",
   "execution_count": 20,
   "metadata": {},
   "outputs": [],
   "source": [
    "# see above: from sklearn.tree import DecisionTreeClassifier   \n",
    "\n",
    "# Make an instance of the Model\n",
    "dtc = DecisionTreeClassifier(random_state=42)   "
   ]
  },
  {
   "cell_type": "markdown",
   "metadata": {},
   "source": [
    "#### Part 2 _ Train the decision tree\n",
    "\n",
    "Now that you have a `DecisionTreeClassifier` object, we can use function(s) to train this model object with the training data we created earlier: `X_train` and `y_train`. Use the `DecisionTreeClassifier` documentation to determine which function(s) to use to find the best fitting `DecisionTreeClassifier` model for the training dataset.\n",
    "\n",
    "**Note**: The scikit-learn package is designed such that this process will not create a new variable in python (or in scikit-learn). Instead, it will update the existing `DecisionTreeClassifier` object you created."
   ]
  },
  {
   "cell_type": "code",
   "execution_count": 21,
   "metadata": {},
   "outputs": [
    {
     "data": {
      "text/html": [
       "<style>#sk-container-id-1 {\n",
       "  /* Definition of color scheme common for light and dark mode */\n",
       "  --sklearn-color-text: black;\n",
       "  --sklearn-color-line: gray;\n",
       "  /* Definition of color scheme for unfitted estimators */\n",
       "  --sklearn-color-unfitted-level-0: #fff5e6;\n",
       "  --sklearn-color-unfitted-level-1: #f6e4d2;\n",
       "  --sklearn-color-unfitted-level-2: #ffe0b3;\n",
       "  --sklearn-color-unfitted-level-3: chocolate;\n",
       "  /* Definition of color scheme for fitted estimators */\n",
       "  --sklearn-color-fitted-level-0: #f0f8ff;\n",
       "  --sklearn-color-fitted-level-1: #d4ebff;\n",
       "  --sklearn-color-fitted-level-2: #b3dbfd;\n",
       "  --sklearn-color-fitted-level-3: cornflowerblue;\n",
       "\n",
       "  /* Specific color for light theme */\n",
       "  --sklearn-color-text-on-default-background: var(--sg-text-color, var(--theme-code-foreground, var(--jp-content-font-color1, black)));\n",
       "  --sklearn-color-background: var(--sg-background-color, var(--theme-background, var(--jp-layout-color0, white)));\n",
       "  --sklearn-color-border-box: var(--sg-text-color, var(--theme-code-foreground, var(--jp-content-font-color1, black)));\n",
       "  --sklearn-color-icon: #696969;\n",
       "\n",
       "  @media (prefers-color-scheme: dark) {\n",
       "    /* Redefinition of color scheme for dark theme */\n",
       "    --sklearn-color-text-on-default-background: var(--sg-text-color, var(--theme-code-foreground, var(--jp-content-font-color1, white)));\n",
       "    --sklearn-color-background: var(--sg-background-color, var(--theme-background, var(--jp-layout-color0, #111)));\n",
       "    --sklearn-color-border-box: var(--sg-text-color, var(--theme-code-foreground, var(--jp-content-font-color1, white)));\n",
       "    --sklearn-color-icon: #878787;\n",
       "  }\n",
       "}\n",
       "\n",
       "#sk-container-id-1 {\n",
       "  color: var(--sklearn-color-text);\n",
       "}\n",
       "\n",
       "#sk-container-id-1 pre {\n",
       "  padding: 0;\n",
       "}\n",
       "\n",
       "#sk-container-id-1 input.sk-hidden--visually {\n",
       "  border: 0;\n",
       "  clip: rect(1px 1px 1px 1px);\n",
       "  clip: rect(1px, 1px, 1px, 1px);\n",
       "  height: 1px;\n",
       "  margin: -1px;\n",
       "  overflow: hidden;\n",
       "  padding: 0;\n",
       "  position: absolute;\n",
       "  width: 1px;\n",
       "}\n",
       "\n",
       "#sk-container-id-1 div.sk-dashed-wrapped {\n",
       "  border: 1px dashed var(--sklearn-color-line);\n",
       "  margin: 0 0.4em 0.5em 0.4em;\n",
       "  box-sizing: border-box;\n",
       "  padding-bottom: 0.4em;\n",
       "  background-color: var(--sklearn-color-background);\n",
       "}\n",
       "\n",
       "#sk-container-id-1 div.sk-container {\n",
       "  /* jupyter's `normalize.less` sets `[hidden] { display: none; }`\n",
       "     but bootstrap.min.css set `[hidden] { display: none !important; }`\n",
       "     so we also need the `!important` here to be able to override the\n",
       "     default hidden behavior on the sphinx rendered scikit-learn.org.\n",
       "     See: https://github.com/scikit-learn/scikit-learn/issues/21755 */\n",
       "  display: inline-block !important;\n",
       "  position: relative;\n",
       "}\n",
       "\n",
       "#sk-container-id-1 div.sk-text-repr-fallback {\n",
       "  display: none;\n",
       "}\n",
       "\n",
       "div.sk-parallel-item,\n",
       "div.sk-serial,\n",
       "div.sk-item {\n",
       "  /* draw centered vertical line to link estimators */\n",
       "  background-image: linear-gradient(var(--sklearn-color-text-on-default-background), var(--sklearn-color-text-on-default-background));\n",
       "  background-size: 2px 100%;\n",
       "  background-repeat: no-repeat;\n",
       "  background-position: center center;\n",
       "}\n",
       "\n",
       "/* Parallel-specific style estimator block */\n",
       "\n",
       "#sk-container-id-1 div.sk-parallel-item::after {\n",
       "  content: \"\";\n",
       "  width: 100%;\n",
       "  border-bottom: 2px solid var(--sklearn-color-text-on-default-background);\n",
       "  flex-grow: 1;\n",
       "}\n",
       "\n",
       "#sk-container-id-1 div.sk-parallel {\n",
       "  display: flex;\n",
       "  align-items: stretch;\n",
       "  justify-content: center;\n",
       "  background-color: var(--sklearn-color-background);\n",
       "  position: relative;\n",
       "}\n",
       "\n",
       "#sk-container-id-1 div.sk-parallel-item {\n",
       "  display: flex;\n",
       "  flex-direction: column;\n",
       "}\n",
       "\n",
       "#sk-container-id-1 div.sk-parallel-item:first-child::after {\n",
       "  align-self: flex-end;\n",
       "  width: 50%;\n",
       "}\n",
       "\n",
       "#sk-container-id-1 div.sk-parallel-item:last-child::after {\n",
       "  align-self: flex-start;\n",
       "  width: 50%;\n",
       "}\n",
       "\n",
       "#sk-container-id-1 div.sk-parallel-item:only-child::after {\n",
       "  width: 0;\n",
       "}\n",
       "\n",
       "/* Serial-specific style estimator block */\n",
       "\n",
       "#sk-container-id-1 div.sk-serial {\n",
       "  display: flex;\n",
       "  flex-direction: column;\n",
       "  align-items: center;\n",
       "  background-color: var(--sklearn-color-background);\n",
       "  padding-right: 1em;\n",
       "  padding-left: 1em;\n",
       "}\n",
       "\n",
       "\n",
       "/* Toggleable style: style used for estimator/Pipeline/ColumnTransformer box that is\n",
       "clickable and can be expanded/collapsed.\n",
       "- Pipeline and ColumnTransformer use this feature and define the default style\n",
       "- Estimators will overwrite some part of the style using the `sk-estimator` class\n",
       "*/\n",
       "\n",
       "/* Pipeline and ColumnTransformer style (default) */\n",
       "\n",
       "#sk-container-id-1 div.sk-toggleable {\n",
       "  /* Default theme specific background. It is overwritten whether we have a\n",
       "  specific estimator or a Pipeline/ColumnTransformer */\n",
       "  background-color: var(--sklearn-color-background);\n",
       "}\n",
       "\n",
       "/* Toggleable label */\n",
       "#sk-container-id-1 label.sk-toggleable__label {\n",
       "  cursor: pointer;\n",
       "  display: block;\n",
       "  width: 100%;\n",
       "  margin-bottom: 0;\n",
       "  padding: 0.5em;\n",
       "  box-sizing: border-box;\n",
       "  text-align: center;\n",
       "}\n",
       "\n",
       "#sk-container-id-1 label.sk-toggleable__label-arrow:before {\n",
       "  /* Arrow on the left of the label */\n",
       "  content: \"▸\";\n",
       "  float: left;\n",
       "  margin-right: 0.25em;\n",
       "  color: var(--sklearn-color-icon);\n",
       "}\n",
       "\n",
       "#sk-container-id-1 label.sk-toggleable__label-arrow:hover:before {\n",
       "  color: var(--sklearn-color-text);\n",
       "}\n",
       "\n",
       "/* Toggleable content - dropdown */\n",
       "\n",
       "#sk-container-id-1 div.sk-toggleable__content {\n",
       "  max-height: 0;\n",
       "  max-width: 0;\n",
       "  overflow: hidden;\n",
       "  text-align: left;\n",
       "  /* unfitted */\n",
       "  background-color: var(--sklearn-color-unfitted-level-0);\n",
       "}\n",
       "\n",
       "#sk-container-id-1 div.sk-toggleable__content.fitted {\n",
       "  /* fitted */\n",
       "  background-color: var(--sklearn-color-fitted-level-0);\n",
       "}\n",
       "\n",
       "#sk-container-id-1 div.sk-toggleable__content pre {\n",
       "  margin: 0.2em;\n",
       "  border-radius: 0.25em;\n",
       "  color: var(--sklearn-color-text);\n",
       "  /* unfitted */\n",
       "  background-color: var(--sklearn-color-unfitted-level-0);\n",
       "}\n",
       "\n",
       "#sk-container-id-1 div.sk-toggleable__content.fitted pre {\n",
       "  /* unfitted */\n",
       "  background-color: var(--sklearn-color-fitted-level-0);\n",
       "}\n",
       "\n",
       "#sk-container-id-1 input.sk-toggleable__control:checked~div.sk-toggleable__content {\n",
       "  /* Expand drop-down */\n",
       "  max-height: 200px;\n",
       "  max-width: 100%;\n",
       "  overflow: auto;\n",
       "}\n",
       "\n",
       "#sk-container-id-1 input.sk-toggleable__control:checked~label.sk-toggleable__label-arrow:before {\n",
       "  content: \"▾\";\n",
       "}\n",
       "\n",
       "/* Pipeline/ColumnTransformer-specific style */\n",
       "\n",
       "#sk-container-id-1 div.sk-label input.sk-toggleable__control:checked~label.sk-toggleable__label {\n",
       "  color: var(--sklearn-color-text);\n",
       "  background-color: var(--sklearn-color-unfitted-level-2);\n",
       "}\n",
       "\n",
       "#sk-container-id-1 div.sk-label.fitted input.sk-toggleable__control:checked~label.sk-toggleable__label {\n",
       "  background-color: var(--sklearn-color-fitted-level-2);\n",
       "}\n",
       "\n",
       "/* Estimator-specific style */\n",
       "\n",
       "/* Colorize estimator box */\n",
       "#sk-container-id-1 div.sk-estimator input.sk-toggleable__control:checked~label.sk-toggleable__label {\n",
       "  /* unfitted */\n",
       "  background-color: var(--sklearn-color-unfitted-level-2);\n",
       "}\n",
       "\n",
       "#sk-container-id-1 div.sk-estimator.fitted input.sk-toggleable__control:checked~label.sk-toggleable__label {\n",
       "  /* fitted */\n",
       "  background-color: var(--sklearn-color-fitted-level-2);\n",
       "}\n",
       "\n",
       "#sk-container-id-1 div.sk-label label.sk-toggleable__label,\n",
       "#sk-container-id-1 div.sk-label label {\n",
       "  /* The background is the default theme color */\n",
       "  color: var(--sklearn-color-text-on-default-background);\n",
       "}\n",
       "\n",
       "/* On hover, darken the color of the background */\n",
       "#sk-container-id-1 div.sk-label:hover label.sk-toggleable__label {\n",
       "  color: var(--sklearn-color-text);\n",
       "  background-color: var(--sklearn-color-unfitted-level-2);\n",
       "}\n",
       "\n",
       "/* Label box, darken color on hover, fitted */\n",
       "#sk-container-id-1 div.sk-label.fitted:hover label.sk-toggleable__label.fitted {\n",
       "  color: var(--sklearn-color-text);\n",
       "  background-color: var(--sklearn-color-fitted-level-2);\n",
       "}\n",
       "\n",
       "/* Estimator label */\n",
       "\n",
       "#sk-container-id-1 div.sk-label label {\n",
       "  font-family: monospace;\n",
       "  font-weight: bold;\n",
       "  display: inline-block;\n",
       "  line-height: 1.2em;\n",
       "}\n",
       "\n",
       "#sk-container-id-1 div.sk-label-container {\n",
       "  text-align: center;\n",
       "}\n",
       "\n",
       "/* Estimator-specific */\n",
       "#sk-container-id-1 div.sk-estimator {\n",
       "  font-family: monospace;\n",
       "  border: 1px dotted var(--sklearn-color-border-box);\n",
       "  border-radius: 0.25em;\n",
       "  box-sizing: border-box;\n",
       "  margin-bottom: 0.5em;\n",
       "  /* unfitted */\n",
       "  background-color: var(--sklearn-color-unfitted-level-0);\n",
       "}\n",
       "\n",
       "#sk-container-id-1 div.sk-estimator.fitted {\n",
       "  /* fitted */\n",
       "  background-color: var(--sklearn-color-fitted-level-0);\n",
       "}\n",
       "\n",
       "/* on hover */\n",
       "#sk-container-id-1 div.sk-estimator:hover {\n",
       "  /* unfitted */\n",
       "  background-color: var(--sklearn-color-unfitted-level-2);\n",
       "}\n",
       "\n",
       "#sk-container-id-1 div.sk-estimator.fitted:hover {\n",
       "  /* fitted */\n",
       "  background-color: var(--sklearn-color-fitted-level-2);\n",
       "}\n",
       "\n",
       "/* Specification for estimator info (e.g. \"i\" and \"?\") */\n",
       "\n",
       "/* Common style for \"i\" and \"?\" */\n",
       "\n",
       ".sk-estimator-doc-link,\n",
       "a:link.sk-estimator-doc-link,\n",
       "a:visited.sk-estimator-doc-link {\n",
       "  float: right;\n",
       "  font-size: smaller;\n",
       "  line-height: 1em;\n",
       "  font-family: monospace;\n",
       "  background-color: var(--sklearn-color-background);\n",
       "  border-radius: 1em;\n",
       "  height: 1em;\n",
       "  width: 1em;\n",
       "  text-decoration: none !important;\n",
       "  margin-left: 1ex;\n",
       "  /* unfitted */\n",
       "  border: var(--sklearn-color-unfitted-level-1) 1pt solid;\n",
       "  color: var(--sklearn-color-unfitted-level-1);\n",
       "}\n",
       "\n",
       ".sk-estimator-doc-link.fitted,\n",
       "a:link.sk-estimator-doc-link.fitted,\n",
       "a:visited.sk-estimator-doc-link.fitted {\n",
       "  /* fitted */\n",
       "  border: var(--sklearn-color-fitted-level-1) 1pt solid;\n",
       "  color: var(--sklearn-color-fitted-level-1);\n",
       "}\n",
       "\n",
       "/* On hover */\n",
       "div.sk-estimator:hover .sk-estimator-doc-link:hover,\n",
       ".sk-estimator-doc-link:hover,\n",
       "div.sk-label-container:hover .sk-estimator-doc-link:hover,\n",
       ".sk-estimator-doc-link:hover {\n",
       "  /* unfitted */\n",
       "  background-color: var(--sklearn-color-unfitted-level-3);\n",
       "  color: var(--sklearn-color-background);\n",
       "  text-decoration: none;\n",
       "}\n",
       "\n",
       "div.sk-estimator.fitted:hover .sk-estimator-doc-link.fitted:hover,\n",
       ".sk-estimator-doc-link.fitted:hover,\n",
       "div.sk-label-container:hover .sk-estimator-doc-link.fitted:hover,\n",
       ".sk-estimator-doc-link.fitted:hover {\n",
       "  /* fitted */\n",
       "  background-color: var(--sklearn-color-fitted-level-3);\n",
       "  color: var(--sklearn-color-background);\n",
       "  text-decoration: none;\n",
       "}\n",
       "\n",
       "/* Span, style for the box shown on hovering the info icon */\n",
       ".sk-estimator-doc-link span {\n",
       "  display: none;\n",
       "  z-index: 9999;\n",
       "  position: relative;\n",
       "  font-weight: normal;\n",
       "  right: .2ex;\n",
       "  padding: .5ex;\n",
       "  margin: .5ex;\n",
       "  width: min-content;\n",
       "  min-width: 20ex;\n",
       "  max-width: 50ex;\n",
       "  color: var(--sklearn-color-text);\n",
       "  box-shadow: 2pt 2pt 4pt #999;\n",
       "  /* unfitted */\n",
       "  background: var(--sklearn-color-unfitted-level-0);\n",
       "  border: .5pt solid var(--sklearn-color-unfitted-level-3);\n",
       "}\n",
       "\n",
       ".sk-estimator-doc-link.fitted span {\n",
       "  /* fitted */\n",
       "  background: var(--sklearn-color-fitted-level-0);\n",
       "  border: var(--sklearn-color-fitted-level-3);\n",
       "}\n",
       "\n",
       ".sk-estimator-doc-link:hover span {\n",
       "  display: block;\n",
       "}\n",
       "\n",
       "/* \"?\"-specific style due to the `<a>` HTML tag */\n",
       "\n",
       "#sk-container-id-1 a.estimator_doc_link {\n",
       "  float: right;\n",
       "  font-size: 1rem;\n",
       "  line-height: 1em;\n",
       "  font-family: monospace;\n",
       "  background-color: var(--sklearn-color-background);\n",
       "  border-radius: 1rem;\n",
       "  height: 1rem;\n",
       "  width: 1rem;\n",
       "  text-decoration: none;\n",
       "  /* unfitted */\n",
       "  color: var(--sklearn-color-unfitted-level-1);\n",
       "  border: var(--sklearn-color-unfitted-level-1) 1pt solid;\n",
       "}\n",
       "\n",
       "#sk-container-id-1 a.estimator_doc_link.fitted {\n",
       "  /* fitted */\n",
       "  border: var(--sklearn-color-fitted-level-1) 1pt solid;\n",
       "  color: var(--sklearn-color-fitted-level-1);\n",
       "}\n",
       "\n",
       "/* On hover */\n",
       "#sk-container-id-1 a.estimator_doc_link:hover {\n",
       "  /* unfitted */\n",
       "  background-color: var(--sklearn-color-unfitted-level-3);\n",
       "  color: var(--sklearn-color-background);\n",
       "  text-decoration: none;\n",
       "}\n",
       "\n",
       "#sk-container-id-1 a.estimator_doc_link.fitted:hover {\n",
       "  /* fitted */\n",
       "  background-color: var(--sklearn-color-fitted-level-3);\n",
       "}\n",
       "</style><div id=\"sk-container-id-1\" class=\"sk-top-container\"><div class=\"sk-text-repr-fallback\"><pre>DecisionTreeClassifier(random_state=42)</pre><b>In a Jupyter environment, please rerun this cell to show the HTML representation or trust the notebook. <br />On GitHub, the HTML representation is unable to render, please try loading this page with nbviewer.org.</b></div><div class=\"sk-container\" hidden><div class=\"sk-item\"><div class=\"sk-estimator fitted sk-toggleable\"><input class=\"sk-toggleable__control sk-hidden--visually\" id=\"sk-estimator-id-1\" type=\"checkbox\" checked><label for=\"sk-estimator-id-1\" class=\"sk-toggleable__label fitted sk-toggleable__label-arrow fitted\">&nbsp;&nbsp;DecisionTreeClassifier<a class=\"sk-estimator-doc-link fitted\" rel=\"noreferrer\" target=\"_blank\" href=\"https://scikit-learn.org/1.5/modules/generated/sklearn.tree.DecisionTreeClassifier.html\">?<span>Documentation for DecisionTreeClassifier</span></a><span class=\"sk-estimator-doc-link fitted\">i<span>Fitted</span></span></label><div class=\"sk-toggleable__content fitted\"><pre>DecisionTreeClassifier(random_state=42)</pre></div> </div></div></div></div>"
      ],
      "text/plain": [
       "DecisionTreeClassifier(random_state=42)"
      ]
     },
     "execution_count": 21,
     "metadata": {},
     "output_type": "execute_result"
    }
   ],
   "source": [
    "dtc.fit(X_train, y_train)\n",
    "\n",
    "# your code here"
   ]
  },
  {
   "cell_type": "markdown",
   "metadata": {},
   "source": [
    "#### Part 3 _ Predict with the decision tree\n",
    "\n",
    "Now that you have trained the `DecisionTreeClassifier` object, we can now use function(s) to generate predictions by the model on the test data we created earlier: `X_test` and `y_test`. Use the `DecisionTreeClassifier` documentation to determine which function(s) to use to do this.\n",
    "\n",
    "**Note**: The scikit-learn package is designed such that this process *will* create and return a new variable in python. The model object generates a list of predictions that then must be saved to a variable."
   ]
  },
  {
   "cell_type": "code",
   "execution_count": 23,
   "metadata": {},
   "outputs": [],
   "source": [
    "# Predict the labels of new data (test set)\n",
    "\n",
    "test_prediction = dtc.predict(X_test) "
   ]
  },
  {
   "cell_type": "markdown",
   "metadata": {},
   "source": [
    "#### Part 4 _ Evaluate the decision tree predictions\n",
    "\n",
    "Use a scikit-learn function (see the Week 1 practical exercises if needed) to compute the accuracy of this model on the test set."
   ]
  },
  {
   "cell_type": "code",
   "execution_count": 25,
   "metadata": {},
   "outputs": [
    {
     "name": "stdout",
     "output_type": "stream",
     "text": [
      "Accuracy on test set:  0.978\n"
     ]
    }
   ],
   "source": [
    "test_accuracy = accuracy_score(y_test, test_prediction)\n",
    "\n",
    "print('Accuracy on test set: ', round(test_accuracy, 3))"
   ]
  },
  {
   "cell_type": "markdown",
   "metadata": {},
   "source": [
    "\n",
    "#### Thought question 1: \n",
    "\n",
    "Do you expect accuracy on the training data set to be higher or lower than the accuracy on th test data set? Why or why not?"
   ]
  },
  {
   "cell_type": "markdown",
   "metadata": {},
   "source": []
  },
  {
   "cell_type": "markdown",
   "metadata": {},
   "source": [
    "#### Part 5 _ Check accuracy on the training data\n",
    "\n",
    "A trained scikit-learn model object can make predictions on more than one dataset. Use the trained model above to make predictions on the training set data.\n"
   ]
  },
  {
   "cell_type": "code",
   "execution_count": 26,
   "metadata": {},
   "outputs": [
    {
     "data": {
      "text/plain": [
       "1.0"
      ]
     },
     "execution_count": 26,
     "metadata": {},
     "output_type": "execute_result"
    }
   ],
   "source": [
    "train_prediction = dtc.predict(X_train)\n",
    "# your code here\n",
    "train_accuracy = accuracy_score(y_train, train_prediction)\n",
    "round(train_accuracy, 3)"
   ]
  },
  {
   "cell_type": "markdown",
   "metadata": {},
   "source": [
    "#### Thought question 2: \n",
    "\n",
    "If this model was going to be used by a local florist to autmatically generate plant labels (and correctly price them), do you think the accuracy on the training data or test data is a better reflection of the true accuracy of this model? Why?"
   ]
  },
  {
   "cell_type": "code",
   "execution_count": null,
   "metadata": {},
   "outputs": [],
   "source": []
  },
  {
   "cell_type": "markdown",
   "metadata": {},
   "source": [
    "The library `sklearn.tree` contains implementations of various types of decision trees and forests."
   ]
  },
  {
   "cell_type": "markdown",
   "metadata": {},
   "source": [
    "### Exercise 3 _ Finding the Optimal `max_depth`\n",
    "\n",
    "Tree depth is a measure of how many splits it makes before coming to a prediction. `max_depth` is a hyperparameter for the decision tree model that specifies the maximum depth a tree can reach.   \n",
    "\n",
    "It is important to remember that trees do not need to reach their `max_depth`, the learning process can stop earlier.\n",
    "\n",
    "Evaluating hyperparameter values during the search for optimal hyperparameter values for a model should not be done with the true test set, because this can lead to over estimating your performance on the test set. Instead, each hyperparameter value should be evaluated on the validation or developmental set. Only best hyperparameter value(s) for a model should then be evaluated on the test set.\n",
    "\n",
    "So, to find the optimal `max_depth` we must first create three datasets: train, development, and test."
   ]
  },
  {
   "cell_type": "code",
   "execution_count": 27,
   "metadata": {},
   "outputs": [
    {
     "name": "stdout",
     "output_type": "stream",
     "text": [
      "(112, 4) (22, 4) (16, 4) (150, 5)\n"
     ]
    }
   ],
   "source": [
    "# see above: from sklearn.model_selection import train_test_split\n",
    "#   unfortunately, won't naturally produce a development/validation set\n",
    "#   so we need to make two calls to the function:\n",
    "\n",
    "train_ratio = 0.75\n",
    "validation_ratio = 0.15\n",
    "test_ratio = 0.10\n",
    "\n",
    "X_train, X_dev_and_test, y_train, y_dev_and_test = train_test_split(df[raw_data.feature_names], \n",
    "                                                                    df['target'],\n",
    "                                                                    test_size=1 - train_ratio,\n",
    "                                                                    random_state=0)\n",
    "\n",
    "X_dev, X_test, y_dev, y_test = train_test_split(X_dev_and_test, \n",
    "                                                y_dev_and_test, \n",
    "                                                test_size=test_ratio/(test_ratio + validation_ratio),\n",
    "                                                random_state=0) \n",
    "\n",
    "print(X_train.shape, X_dev.shape, X_test.shape, df.shape)"
   ]
  },
  {
   "cell_type": "markdown",
   "metadata": {},
   "source": [
    "#### Part 1 _ Evaulate `max_depth` values\n",
    "\n",
    "Write code that trains a decision tree on the training dataset and evaluates the accuracy on the developmental dataset for each value of `max_depth` from 1 to 7.\n",
    "\n",
    "Store the accuracy for each max_depth as a list.\n",
    "\n",
    "Store a variable that contains the best model found so far."
   ]
  },
  {
   "cell_type": "code",
   "execution_count": 29,
   "metadata": {},
   "outputs": [
    {
     "name": "stdout",
     "output_type": "stream",
     "text": [
      "[0.5, 0.9545454545454546, 1.0, 1.0, 1.0, 1.0]\n"
     ]
    },
    {
     "data": {
      "text/html": [
       "<style>#sk-container-id-2 {\n",
       "  /* Definition of color scheme common for light and dark mode */\n",
       "  --sklearn-color-text: black;\n",
       "  --sklearn-color-line: gray;\n",
       "  /* Definition of color scheme for unfitted estimators */\n",
       "  --sklearn-color-unfitted-level-0: #fff5e6;\n",
       "  --sklearn-color-unfitted-level-1: #f6e4d2;\n",
       "  --sklearn-color-unfitted-level-2: #ffe0b3;\n",
       "  --sklearn-color-unfitted-level-3: chocolate;\n",
       "  /* Definition of color scheme for fitted estimators */\n",
       "  --sklearn-color-fitted-level-0: #f0f8ff;\n",
       "  --sklearn-color-fitted-level-1: #d4ebff;\n",
       "  --sklearn-color-fitted-level-2: #b3dbfd;\n",
       "  --sklearn-color-fitted-level-3: cornflowerblue;\n",
       "\n",
       "  /* Specific color for light theme */\n",
       "  --sklearn-color-text-on-default-background: var(--sg-text-color, var(--theme-code-foreground, var(--jp-content-font-color1, black)));\n",
       "  --sklearn-color-background: var(--sg-background-color, var(--theme-background, var(--jp-layout-color0, white)));\n",
       "  --sklearn-color-border-box: var(--sg-text-color, var(--theme-code-foreground, var(--jp-content-font-color1, black)));\n",
       "  --sklearn-color-icon: #696969;\n",
       "\n",
       "  @media (prefers-color-scheme: dark) {\n",
       "    /* Redefinition of color scheme for dark theme */\n",
       "    --sklearn-color-text-on-default-background: var(--sg-text-color, var(--theme-code-foreground, var(--jp-content-font-color1, white)));\n",
       "    --sklearn-color-background: var(--sg-background-color, var(--theme-background, var(--jp-layout-color0, #111)));\n",
       "    --sklearn-color-border-box: var(--sg-text-color, var(--theme-code-foreground, var(--jp-content-font-color1, white)));\n",
       "    --sklearn-color-icon: #878787;\n",
       "  }\n",
       "}\n",
       "\n",
       "#sk-container-id-2 {\n",
       "  color: var(--sklearn-color-text);\n",
       "}\n",
       "\n",
       "#sk-container-id-2 pre {\n",
       "  padding: 0;\n",
       "}\n",
       "\n",
       "#sk-container-id-2 input.sk-hidden--visually {\n",
       "  border: 0;\n",
       "  clip: rect(1px 1px 1px 1px);\n",
       "  clip: rect(1px, 1px, 1px, 1px);\n",
       "  height: 1px;\n",
       "  margin: -1px;\n",
       "  overflow: hidden;\n",
       "  padding: 0;\n",
       "  position: absolute;\n",
       "  width: 1px;\n",
       "}\n",
       "\n",
       "#sk-container-id-2 div.sk-dashed-wrapped {\n",
       "  border: 1px dashed var(--sklearn-color-line);\n",
       "  margin: 0 0.4em 0.5em 0.4em;\n",
       "  box-sizing: border-box;\n",
       "  padding-bottom: 0.4em;\n",
       "  background-color: var(--sklearn-color-background);\n",
       "}\n",
       "\n",
       "#sk-container-id-2 div.sk-container {\n",
       "  /* jupyter's `normalize.less` sets `[hidden] { display: none; }`\n",
       "     but bootstrap.min.css set `[hidden] { display: none !important; }`\n",
       "     so we also need the `!important` here to be able to override the\n",
       "     default hidden behavior on the sphinx rendered scikit-learn.org.\n",
       "     See: https://github.com/scikit-learn/scikit-learn/issues/21755 */\n",
       "  display: inline-block !important;\n",
       "  position: relative;\n",
       "}\n",
       "\n",
       "#sk-container-id-2 div.sk-text-repr-fallback {\n",
       "  display: none;\n",
       "}\n",
       "\n",
       "div.sk-parallel-item,\n",
       "div.sk-serial,\n",
       "div.sk-item {\n",
       "  /* draw centered vertical line to link estimators */\n",
       "  background-image: linear-gradient(var(--sklearn-color-text-on-default-background), var(--sklearn-color-text-on-default-background));\n",
       "  background-size: 2px 100%;\n",
       "  background-repeat: no-repeat;\n",
       "  background-position: center center;\n",
       "}\n",
       "\n",
       "/* Parallel-specific style estimator block */\n",
       "\n",
       "#sk-container-id-2 div.sk-parallel-item::after {\n",
       "  content: \"\";\n",
       "  width: 100%;\n",
       "  border-bottom: 2px solid var(--sklearn-color-text-on-default-background);\n",
       "  flex-grow: 1;\n",
       "}\n",
       "\n",
       "#sk-container-id-2 div.sk-parallel {\n",
       "  display: flex;\n",
       "  align-items: stretch;\n",
       "  justify-content: center;\n",
       "  background-color: var(--sklearn-color-background);\n",
       "  position: relative;\n",
       "}\n",
       "\n",
       "#sk-container-id-2 div.sk-parallel-item {\n",
       "  display: flex;\n",
       "  flex-direction: column;\n",
       "}\n",
       "\n",
       "#sk-container-id-2 div.sk-parallel-item:first-child::after {\n",
       "  align-self: flex-end;\n",
       "  width: 50%;\n",
       "}\n",
       "\n",
       "#sk-container-id-2 div.sk-parallel-item:last-child::after {\n",
       "  align-self: flex-start;\n",
       "  width: 50%;\n",
       "}\n",
       "\n",
       "#sk-container-id-2 div.sk-parallel-item:only-child::after {\n",
       "  width: 0;\n",
       "}\n",
       "\n",
       "/* Serial-specific style estimator block */\n",
       "\n",
       "#sk-container-id-2 div.sk-serial {\n",
       "  display: flex;\n",
       "  flex-direction: column;\n",
       "  align-items: center;\n",
       "  background-color: var(--sklearn-color-background);\n",
       "  padding-right: 1em;\n",
       "  padding-left: 1em;\n",
       "}\n",
       "\n",
       "\n",
       "/* Toggleable style: style used for estimator/Pipeline/ColumnTransformer box that is\n",
       "clickable and can be expanded/collapsed.\n",
       "- Pipeline and ColumnTransformer use this feature and define the default style\n",
       "- Estimators will overwrite some part of the style using the `sk-estimator` class\n",
       "*/\n",
       "\n",
       "/* Pipeline and ColumnTransformer style (default) */\n",
       "\n",
       "#sk-container-id-2 div.sk-toggleable {\n",
       "  /* Default theme specific background. It is overwritten whether we have a\n",
       "  specific estimator or a Pipeline/ColumnTransformer */\n",
       "  background-color: var(--sklearn-color-background);\n",
       "}\n",
       "\n",
       "/* Toggleable label */\n",
       "#sk-container-id-2 label.sk-toggleable__label {\n",
       "  cursor: pointer;\n",
       "  display: block;\n",
       "  width: 100%;\n",
       "  margin-bottom: 0;\n",
       "  padding: 0.5em;\n",
       "  box-sizing: border-box;\n",
       "  text-align: center;\n",
       "}\n",
       "\n",
       "#sk-container-id-2 label.sk-toggleable__label-arrow:before {\n",
       "  /* Arrow on the left of the label */\n",
       "  content: \"▸\";\n",
       "  float: left;\n",
       "  margin-right: 0.25em;\n",
       "  color: var(--sklearn-color-icon);\n",
       "}\n",
       "\n",
       "#sk-container-id-2 label.sk-toggleable__label-arrow:hover:before {\n",
       "  color: var(--sklearn-color-text);\n",
       "}\n",
       "\n",
       "/* Toggleable content - dropdown */\n",
       "\n",
       "#sk-container-id-2 div.sk-toggleable__content {\n",
       "  max-height: 0;\n",
       "  max-width: 0;\n",
       "  overflow: hidden;\n",
       "  text-align: left;\n",
       "  /* unfitted */\n",
       "  background-color: var(--sklearn-color-unfitted-level-0);\n",
       "}\n",
       "\n",
       "#sk-container-id-2 div.sk-toggleable__content.fitted {\n",
       "  /* fitted */\n",
       "  background-color: var(--sklearn-color-fitted-level-0);\n",
       "}\n",
       "\n",
       "#sk-container-id-2 div.sk-toggleable__content pre {\n",
       "  margin: 0.2em;\n",
       "  border-radius: 0.25em;\n",
       "  color: var(--sklearn-color-text);\n",
       "  /* unfitted */\n",
       "  background-color: var(--sklearn-color-unfitted-level-0);\n",
       "}\n",
       "\n",
       "#sk-container-id-2 div.sk-toggleable__content.fitted pre {\n",
       "  /* unfitted */\n",
       "  background-color: var(--sklearn-color-fitted-level-0);\n",
       "}\n",
       "\n",
       "#sk-container-id-2 input.sk-toggleable__control:checked~div.sk-toggleable__content {\n",
       "  /* Expand drop-down */\n",
       "  max-height: 200px;\n",
       "  max-width: 100%;\n",
       "  overflow: auto;\n",
       "}\n",
       "\n",
       "#sk-container-id-2 input.sk-toggleable__control:checked~label.sk-toggleable__label-arrow:before {\n",
       "  content: \"▾\";\n",
       "}\n",
       "\n",
       "/* Pipeline/ColumnTransformer-specific style */\n",
       "\n",
       "#sk-container-id-2 div.sk-label input.sk-toggleable__control:checked~label.sk-toggleable__label {\n",
       "  color: var(--sklearn-color-text);\n",
       "  background-color: var(--sklearn-color-unfitted-level-2);\n",
       "}\n",
       "\n",
       "#sk-container-id-2 div.sk-label.fitted input.sk-toggleable__control:checked~label.sk-toggleable__label {\n",
       "  background-color: var(--sklearn-color-fitted-level-2);\n",
       "}\n",
       "\n",
       "/* Estimator-specific style */\n",
       "\n",
       "/* Colorize estimator box */\n",
       "#sk-container-id-2 div.sk-estimator input.sk-toggleable__control:checked~label.sk-toggleable__label {\n",
       "  /* unfitted */\n",
       "  background-color: var(--sklearn-color-unfitted-level-2);\n",
       "}\n",
       "\n",
       "#sk-container-id-2 div.sk-estimator.fitted input.sk-toggleable__control:checked~label.sk-toggleable__label {\n",
       "  /* fitted */\n",
       "  background-color: var(--sklearn-color-fitted-level-2);\n",
       "}\n",
       "\n",
       "#sk-container-id-2 div.sk-label label.sk-toggleable__label,\n",
       "#sk-container-id-2 div.sk-label label {\n",
       "  /* The background is the default theme color */\n",
       "  color: var(--sklearn-color-text-on-default-background);\n",
       "}\n",
       "\n",
       "/* On hover, darken the color of the background */\n",
       "#sk-container-id-2 div.sk-label:hover label.sk-toggleable__label {\n",
       "  color: var(--sklearn-color-text);\n",
       "  background-color: var(--sklearn-color-unfitted-level-2);\n",
       "}\n",
       "\n",
       "/* Label box, darken color on hover, fitted */\n",
       "#sk-container-id-2 div.sk-label.fitted:hover label.sk-toggleable__label.fitted {\n",
       "  color: var(--sklearn-color-text);\n",
       "  background-color: var(--sklearn-color-fitted-level-2);\n",
       "}\n",
       "\n",
       "/* Estimator label */\n",
       "\n",
       "#sk-container-id-2 div.sk-label label {\n",
       "  font-family: monospace;\n",
       "  font-weight: bold;\n",
       "  display: inline-block;\n",
       "  line-height: 1.2em;\n",
       "}\n",
       "\n",
       "#sk-container-id-2 div.sk-label-container {\n",
       "  text-align: center;\n",
       "}\n",
       "\n",
       "/* Estimator-specific */\n",
       "#sk-container-id-2 div.sk-estimator {\n",
       "  font-family: monospace;\n",
       "  border: 1px dotted var(--sklearn-color-border-box);\n",
       "  border-radius: 0.25em;\n",
       "  box-sizing: border-box;\n",
       "  margin-bottom: 0.5em;\n",
       "  /* unfitted */\n",
       "  background-color: var(--sklearn-color-unfitted-level-0);\n",
       "}\n",
       "\n",
       "#sk-container-id-2 div.sk-estimator.fitted {\n",
       "  /* fitted */\n",
       "  background-color: var(--sklearn-color-fitted-level-0);\n",
       "}\n",
       "\n",
       "/* on hover */\n",
       "#sk-container-id-2 div.sk-estimator:hover {\n",
       "  /* unfitted */\n",
       "  background-color: var(--sklearn-color-unfitted-level-2);\n",
       "}\n",
       "\n",
       "#sk-container-id-2 div.sk-estimator.fitted:hover {\n",
       "  /* fitted */\n",
       "  background-color: var(--sklearn-color-fitted-level-2);\n",
       "}\n",
       "\n",
       "/* Specification for estimator info (e.g. \"i\" and \"?\") */\n",
       "\n",
       "/* Common style for \"i\" and \"?\" */\n",
       "\n",
       ".sk-estimator-doc-link,\n",
       "a:link.sk-estimator-doc-link,\n",
       "a:visited.sk-estimator-doc-link {\n",
       "  float: right;\n",
       "  font-size: smaller;\n",
       "  line-height: 1em;\n",
       "  font-family: monospace;\n",
       "  background-color: var(--sklearn-color-background);\n",
       "  border-radius: 1em;\n",
       "  height: 1em;\n",
       "  width: 1em;\n",
       "  text-decoration: none !important;\n",
       "  margin-left: 1ex;\n",
       "  /* unfitted */\n",
       "  border: var(--sklearn-color-unfitted-level-1) 1pt solid;\n",
       "  color: var(--sklearn-color-unfitted-level-1);\n",
       "}\n",
       "\n",
       ".sk-estimator-doc-link.fitted,\n",
       "a:link.sk-estimator-doc-link.fitted,\n",
       "a:visited.sk-estimator-doc-link.fitted {\n",
       "  /* fitted */\n",
       "  border: var(--sklearn-color-fitted-level-1) 1pt solid;\n",
       "  color: var(--sklearn-color-fitted-level-1);\n",
       "}\n",
       "\n",
       "/* On hover */\n",
       "div.sk-estimator:hover .sk-estimator-doc-link:hover,\n",
       ".sk-estimator-doc-link:hover,\n",
       "div.sk-label-container:hover .sk-estimator-doc-link:hover,\n",
       ".sk-estimator-doc-link:hover {\n",
       "  /* unfitted */\n",
       "  background-color: var(--sklearn-color-unfitted-level-3);\n",
       "  color: var(--sklearn-color-background);\n",
       "  text-decoration: none;\n",
       "}\n",
       "\n",
       "div.sk-estimator.fitted:hover .sk-estimator-doc-link.fitted:hover,\n",
       ".sk-estimator-doc-link.fitted:hover,\n",
       "div.sk-label-container:hover .sk-estimator-doc-link.fitted:hover,\n",
       ".sk-estimator-doc-link.fitted:hover {\n",
       "  /* fitted */\n",
       "  background-color: var(--sklearn-color-fitted-level-3);\n",
       "  color: var(--sklearn-color-background);\n",
       "  text-decoration: none;\n",
       "}\n",
       "\n",
       "/* Span, style for the box shown on hovering the info icon */\n",
       ".sk-estimator-doc-link span {\n",
       "  display: none;\n",
       "  z-index: 9999;\n",
       "  position: relative;\n",
       "  font-weight: normal;\n",
       "  right: .2ex;\n",
       "  padding: .5ex;\n",
       "  margin: .5ex;\n",
       "  width: min-content;\n",
       "  min-width: 20ex;\n",
       "  max-width: 50ex;\n",
       "  color: var(--sklearn-color-text);\n",
       "  box-shadow: 2pt 2pt 4pt #999;\n",
       "  /* unfitted */\n",
       "  background: var(--sklearn-color-unfitted-level-0);\n",
       "  border: .5pt solid var(--sklearn-color-unfitted-level-3);\n",
       "}\n",
       "\n",
       ".sk-estimator-doc-link.fitted span {\n",
       "  /* fitted */\n",
       "  background: var(--sklearn-color-fitted-level-0);\n",
       "  border: var(--sklearn-color-fitted-level-3);\n",
       "}\n",
       "\n",
       ".sk-estimator-doc-link:hover span {\n",
       "  display: block;\n",
       "}\n",
       "\n",
       "/* \"?\"-specific style due to the `<a>` HTML tag */\n",
       "\n",
       "#sk-container-id-2 a.estimator_doc_link {\n",
       "  float: right;\n",
       "  font-size: 1rem;\n",
       "  line-height: 1em;\n",
       "  font-family: monospace;\n",
       "  background-color: var(--sklearn-color-background);\n",
       "  border-radius: 1rem;\n",
       "  height: 1rem;\n",
       "  width: 1rem;\n",
       "  text-decoration: none;\n",
       "  /* unfitted */\n",
       "  color: var(--sklearn-color-unfitted-level-1);\n",
       "  border: var(--sklearn-color-unfitted-level-1) 1pt solid;\n",
       "}\n",
       "\n",
       "#sk-container-id-2 a.estimator_doc_link.fitted {\n",
       "  /* fitted */\n",
       "  border: var(--sklearn-color-fitted-level-1) 1pt solid;\n",
       "  color: var(--sklearn-color-fitted-level-1);\n",
       "}\n",
       "\n",
       "/* On hover */\n",
       "#sk-container-id-2 a.estimator_doc_link:hover {\n",
       "  /* unfitted */\n",
       "  background-color: var(--sklearn-color-unfitted-level-3);\n",
       "  color: var(--sklearn-color-background);\n",
       "  text-decoration: none;\n",
       "}\n",
       "\n",
       "#sk-container-id-2 a.estimator_doc_link.fitted:hover {\n",
       "  /* fitted */\n",
       "  background-color: var(--sklearn-color-fitted-level-3);\n",
       "}\n",
       "</style><div id=\"sk-container-id-2\" class=\"sk-top-container\"><div class=\"sk-text-repr-fallback\"><pre>DecisionTreeClassifier(max_depth=3, random_state=42)</pre><b>In a Jupyter environment, please rerun this cell to show the HTML representation or trust the notebook. <br />On GitHub, the HTML representation is unable to render, please try loading this page with nbviewer.org.</b></div><div class=\"sk-container\" hidden><div class=\"sk-item\"><div class=\"sk-estimator fitted sk-toggleable\"><input class=\"sk-toggleable__control sk-hidden--visually\" id=\"sk-estimator-id-2\" type=\"checkbox\" checked><label for=\"sk-estimator-id-2\" class=\"sk-toggleable__label fitted sk-toggleable__label-arrow fitted\">&nbsp;&nbsp;DecisionTreeClassifier<a class=\"sk-estimator-doc-link fitted\" rel=\"noreferrer\" target=\"_blank\" href=\"https://scikit-learn.org/1.5/modules/generated/sklearn.tree.DecisionTreeClassifier.html\">?<span>Documentation for DecisionTreeClassifier</span></a><span class=\"sk-estimator-doc-link fitted\">i<span>Fitted</span></span></label><div class=\"sk-toggleable__content fitted\"><pre>DecisionTreeClassifier(max_depth=3, random_state=42)</pre></div> </div></div></div></div>"
      ],
      "text/plain": [
       "DecisionTreeClassifier(max_depth=3, random_state=42)"
      ]
     },
     "execution_count": 29,
     "metadata": {},
     "output_type": "execute_result"
    }
   ],
   "source": [
    "# List of values to try for max_depth:\n",
    "max_depth_range = list(range(1, 7))\n",
    "\n",
    "# List to store the accuracy for each value of max_depth:\n",
    "dev_accuracy = []\n",
    "\n",
    "# Remember the best model so far\n",
    "best_model = None\n",
    "\n",
    "for depth in max_depth_range:\n",
    "\n",
    "    dtcmd = DecisionTreeClassifier(max_depth=depth, random_state=42)\n",
    "    \n",
    "    dtcmd.fit(X_train, y_train)\n",
    "    \n",
    "    dev_score = dtcmd.score(X_dev, y_dev)\n",
    "    \n",
    "    # check if this is the best model so far:\n",
    "    if best_model is None:\n",
    "        best_model = dtcmd\n",
    "    elif dev_score > max(dev_accuracy):\n",
    "        best_model = dtcmd\n",
    "\n",
    "    dev_accuracy.append(dev_score)\n",
    "    \n",
    "print(dev_accuracy)"
   ]
  },
  {
   "cell_type": "markdown",
   "metadata": {},
   "source": [
    "#### Part 2 _ Evaluate best `max_depth`\n",
    "\n",
    "Evaluate the performance on the test set of the model with the best performance on the developmental set."
   ]
  },
  {
   "cell_type": "code",
   "execution_count": 30,
   "metadata": {},
   "outputs": [
    {
     "name": "stdout",
     "output_type": "stream",
     "text": [
      "0.9375\n"
     ]
    }
   ],
   "source": [
    "test_score = best_model.score(X_test, y_test)\n",
    "print(test_score)"
   ]
  },
  {
   "cell_type": "markdown",
   "metadata": {},
   "source": [
    "#### Thought question:\n",
    "\n",
    "Why might the performance on the test set be lower than on the development set? Which is the better measure of performance for this model?"
   ]
  },
  {
   "cell_type": "markdown",
   "metadata": {},
   "source": [
    "### Exercise 4 _ hyperparameter tuning `criterion`\n",
    "\n",
    "#### Part 1 \n",
    "\n",
    "The default measure of impurity for the `DecisionTreeClassifier` model in scikit-learn is the Gini impurity measure (details here: https://scikit-learn.org/stable/modules/generated/sklearn.tree.DecisionTreeClassifier.html).\n",
    "\n",
    "Train and evaluate performance on the test set two decision trees: one trained with the Gini impurity measure and another with the entropy impurity measure (unfortunately the misclassification impurity measure is not supported). Use a fresh 80% train and 20% test split of the data and a `max_depth` of 2 for this exercise.\n"
   ]
  },
  {
   "cell_type": "code",
   "execution_count": 34,
   "metadata": {},
   "outputs": [],
   "source": [
    "X_train, X_test, y_train, y_test = train_test_split(df[raw_data.feature_names], df['target'], test_size=0.2,\n",
    "                                                   random_state=42)\n",
    "\n",
    "dt_gini = DecisionTreeClassifier(criterion='gini', max_depth=2, random_state=42)\n",
    "dt_entropy = DecisionTreeClassifier(criterion='entropy', max_depth=2, random_state=42)\n",
    "\n",
    "dt_gini.fit(X_train, y_train)\n",
    "dt_entropy.fit(X_train, y_train)\n",
    "\n",
    "test_score_gini = dt_gini.score(X_test, y_test)\n",
    "test_score_entropy = dt_entropy.score(X_test, y_test)"
   ]
  },
  {
   "cell_type": "code",
   "execution_count": 36,
   "metadata": {},
   "outputs": [
    {
     "name": "stdout",
     "output_type": "stream",
     "text": [
      "Gini impurity model accuracy:  0.967\n",
      "Entropy impurity model accuracy:  0.967\n"
     ]
    }
   ],
   "source": [
    "print('Gini impurity model accuracy: ', round(test_score_gini, 3))\n",
    "print('Entropy impurity model accuracy: ', round(test_score_entropy, 3))"
   ]
  },
  {
   "cell_type": "markdown",
   "metadata": {},
   "source": [
    "#### Part 2\n",
    "\n",
    "Visualize both decision trees. Are they different? "
   ]
  },
  {
   "cell_type": "code",
   "execution_count": 38,
   "metadata": {},
   "outputs": [
    {
     "data": {
      "image/png": "[encoded data removed]",
      "text/plain": [
       "<Figure size 640x480 with 1 Axes>"
      ]
     },
     "metadata": {},
     "output_type": "display_data"
    }
   ],
   "source": [
    "# Putting the feature names and class names into variables\n",
    "fn = ['sepal length (cm)','sepal width (cm)','petal length (cm)','petal width (cm)']\n",
    "cn = ['setosa', 'versicolor', 'virginica']\n",
    "\n",
    "plot_tree(dt_entropy,\n",
    "          feature_names = fn, \n",
    "          class_names=cn,\n",
    "          filled = True);"
   ]
  },
  {
   "cell_type": "code",
   "execution_count": 39,
   "metadata": {},
   "outputs": [
    {
     "data": {
      "image/png": "[encoded data removed]",
      "text/plain": [
       "<Figure size 640x480 with 1 Axes>"
      ]
     },
     "metadata": {},
     "output_type": "display_data"
    }
   ],
   "source": [
    "# Putting the feature names and class names into variables\n",
    "fn = ['sepal length (cm)','sepal width (cm)','petal length (cm)','petal width (cm)']\n",
    "cn = ['setosa', 'versicolor', 'virginica']\n",
    "\n",
    "plot_tree(dt_gini,\n",
    "          feature_names = fn, \n",
    "          class_names=cn,\n",
    "          filled = True);"
   ]
  },
  {
   "cell_type": "markdown",
   "metadata": {},
   "source": [
    "# 3) Advanced Section: Implementing a decision tree from scratch"
   ]
  },
  {
   "cell_type": "markdown",
   "metadata": {},
   "source": [
    "Recursive functions are very useful when dealing with tree structures, which are recursive structures themselves. We do not know how deep the tree is. All we can see is if the node we are currently looking at has any children, and if it does we can try to visit those, and repeat this."
   ]
  },
  {
   "cell_type": "markdown",
   "metadata": {},
   "source": [
    "## Recursion\n",
    "\n",
    "A recursive function is a function that calls itself until some base case is reached. The base case is a condition we check with every call to the function to make sure it still makes sense to call itself. Without the base case the recursion would continue infinitely.\n",
    "\n",
    "Recursion is often explained by referring to Russian nesting dolls. Each time you open a doll, another doll is inside. This continues until you reach the smallest doll (the base case). Without knowing how many dolls there are we know how to solve the task of opening all the dolls, as we simply keep calling the open *'function'* until we reach the last doll.\n",
    "\n",
    "<img src=\"https://upload.wikimedia.org/wikipedia/commons/d/d2/Russian-Matroshka_no_bg.jpg\" width=\"30%\">\n",
    "\n",
    "An example of a problem we can solve using a recursive function is calculating the factorial. The base case is that if ```n == 0``` we no longer need to calculate the factorial, as here we know the answer, and otherwise we calculate the answer by calculating the factorial for ```n-1```, until we reach 0. In the cell below the ```factorial``` function is given, with print statements to show what's happening."
   ]
  },
  {
   "cell_type": "code",
   "execution_count": 40,
   "metadata": {},
   "outputs": [
    {
     "name": "stdout",
     "output_type": "stream",
     "text": [
      "I don't know the factorial for 5 let's try 4\n",
      "I don't know the factorial for 4 let's try 3\n",
      "I don't know the factorial for 3 let's try 2\n",
      "I don't know the factorial for 2 let's try 1\n",
      "I don't know the factorial for 1 let's try 0\n",
      "This I know! (the base case)\n"
     ]
    },
    {
     "data": {
      "text/plain": [
       "120"
      ]
     },
     "execution_count": 40,
     "metadata": {},
     "output_type": "execute_result"
    }
   ],
   "source": [
    "def factorial(n):\n",
    "    if n == 0:\n",
    "        print(\"This I know! (the base case)\")\n",
    "        return 1\n",
    "    else:\n",
    "        print(\"I don't know the factorial for\", n, \"let's try\", n-1)\n",
    "        return n * factorial(n-1)\n",
    "    \n",
    "factorial(5)"
   ]
  },
  {
   "cell_type": "markdown",
   "metadata": {},
   "source": [
    "The 'thought process' of the recursive function goes something like this:\n",
    "\n",
    "    call factorial( 5 )\n",
    "        call factorial( 4 )\n",
    "            call factorial( 3 )\n",
    "                call factorial( 2 )\n",
    "                    call factorial( 1 )\n",
    "                        return 1\n",
    "                    return 2 * 1\n",
    "                return 3 * 2\n",
    "            return 4 * 6\n",
    "        return 5 * 24\n",
    "    print (120) "
   ]
  },
  {
   "cell_type": "markdown",
   "metadata": {},
   "source": [
    "### Exercise 5 _ Sum of a list using recursion\n",
    "\n",
    "Write a recursive function in the cell below which takes a list of numbers and returns the sum of that list. \n",
    "\n",
    "**Hint:** Remember that you can use the a colon to select a part of a list. For example ```a[2:]``` returns all but the first two elements from the list ```a```."
   ]
  },
  {
   "cell_type": "code",
   "execution_count": 46,
   "metadata": {},
   "outputs": [],
   "source": [
    "def rec_sum(a):\n",
    "    if len(a)==1:\n",
    "        print('I know the sum of',a, 'is:', a[0])\n",
    "        print('Now I will go thorugh all the steps before.')\n",
    "        return a[0]\n",
    "    else:\n",
    "        print('I dont know the sum of',a)\n",
    "        print()\n",
    "        return a[0] + rec_sum( a[1:] )"
   ]
  },
  {
   "cell_type": "code",
   "execution_count": 47,
   "metadata": {},
   "outputs": [
    {
     "name": "stdout",
     "output_type": "stream",
     "text": [
      "I dont know the sum of [1, 2, 3, 4, 5, 6]\n",
      "\n",
      "I dont know the sum of [2, 3, 4, 5, 6]\n",
      "\n",
      "I dont know the sum of [3, 4, 5, 6]\n",
      "\n",
      "I dont know the sum of [4, 5, 6]\n",
      "\n",
      "I dont know the sum of [5, 6]\n",
      "\n",
      "I know the sum of [6] is: 6\n",
      "Now I will go thorugh all the steps before.\n"
     ]
    },
    {
     "data": {
      "text/plain": [
       "21"
      ]
     },
     "execution_count": 47,
     "metadata": {},
     "output_type": "execute_result"
    }
   ],
   "source": [
    "rec_sum([1,2,3,4,5,6])"
   ]
  },
  {
   "cell_type": "markdown",
   "metadata": {},
   "source": [
    "Clearly the function in exercise 5 is not the most useful recursive function, and it can be easily solved with a loop. But it might help you get started thinking about how it works. Let's see how it can be more useful."
   ]
  },
  {
   "cell_type": "markdown",
   "metadata": {},
   "source": [
    "## Tree structures\n",
    "\n",
    "As mentioned before, recursive functions are very useful when dealing with tree structures. Here we will use them to implement the decision tree. \n",
    "\n",
    "The cell below defines functions we can use to construct nodes (represented as dictionaries) in  a decision tree. The nodes store references to its children (left and right) and to the question (feature value) to ask about at this node, as well as the class we'll predict at this node."
   ]
  },
  {
   "cell_type": "code",
   "execution_count": 48,
   "metadata": {},
   "outputs": [],
   "source": [
    "def Node(left=None, right=None, feature=None, value=None, predict=None):\n",
    "    \"Return a node in a binary decision tree\"\n",
    "    return dict(left=left, right=right, feature=feature, value=value, predict=predict)\n",
    "\n",
    "def isLeaf(node):\n",
    "        \"\"\"Helper function to check if the current node is a leaf\"\"\"\n",
    "        return node['left'] is None and node['right'] is None"
   ]
  },
  {
   "cell_type": "code",
   "execution_count": 49,
   "metadata": {},
   "outputs": [],
   "source": [
    "def pretty(node, depth=1):\n",
    "        \"\"\"Print the node in a human-readable manner \"\"\"\n",
    "        if isLeaf(node):\n",
    "            return \"Predict: \\\"{:s}\\\"\".format(node['predict'])\n",
    "        else:\n",
    "            s = \"if features[{:d}] != \\\"{:s}\\\" then:\\n {:s} \\n{:s}else:\\n {:s}\"\n",
    "            return s.format(node['feature'], \n",
    "                            node['value'], \n",
    "                            \"\\t\" * depth + pretty(node['left'], depth+1),\n",
    "                            \"\\t\" * (depth-1),\n",
    "                            \"\\t\" * depth + pretty(node['right'], depth+1))"
   ]
  },
  {
   "cell_type": "markdown",
   "metadata": {},
   "source": [
    "Let's illustrate the use of this class with an example of a made-up tree below."
   ]
  },
  {
   "cell_type": "code",
   "execution_count": 50,
   "metadata": {},
   "outputs": [
    {
     "name": "stdout",
     "output_type": "stream",
     "text": [
      "if features[2] != \"Round\" then:\n",
      " \tPredict: \"Banana\" \n",
      "else:\n",
      " \tif features[1] != \"Red\" then:\n",
      " \t\tPredict: \"Lime\" \n",
      "\telse:\n",
      " \t\tPredict: \"Apple\"\n"
     ]
    }
   ],
   "source": [
    "# We want to first ask about value Round in column at index 2.\n",
    "root = Node(feature=2, value=\"Round\",         \n",
    "            \n",
    "            # If false, in the left branch, which is a leaf node, \n",
    "            # we'll predict Banana  \n",
    "            left=Node(predict=\"Banana\"),\n",
    "            \n",
    "            # If true, in the right branch we'll ask about the color Red\n",
    "            right=Node(feature=1, value=\"Red\", \n",
    "                       \n",
    "                       # Based on the answer to question about color Red, \n",
    "                       # we'll predict either Lime\n",
    "                       left=Node(predict=\"Lime\"),\n",
    "                       \n",
    "                       # or Apple\n",
    "                       right=Node(predict=\"Apple\")))\n",
    "\n",
    "# Thanks to the `pretty` function we can print the tree \n",
    "# and get the rules formatted in a humanly readable format.\n",
    "print(pretty(root))"
   ]
  },
  {
   "cell_type": "code",
   "execution_count": 21,
   "metadata": {},
   "outputs": [
    {
     "name": "stdout",
     "output_type": "stream",
     "text": [
      "Is root a leaf node? False\n",
      "Is the right child of root a leaf node? False\n",
      "\n",
      "The root looks at column 2 and checks if its value is equal or not to Round\n"
     ]
    }
   ],
   "source": [
    "# Additionally we can use `isleaf` to check if a node is a leaf node or not.\n",
    "print(\"Is root a leaf node?\", isLeaf(root))\n",
    "\n",
    "print(\"Is the right child of root a leaf node?\", isLeaf(root['right']))\n",
    "print()\n",
    "\n",
    "# If we want to find out which column the root looks at we can:\n",
    "print(\"The root looks at column\", root['feature'], \n",
    "      \"and checks if its value is equal or not to\", root['value'])"
   ]
  },
  {
   "cell_type": "markdown",
   "metadata": {},
   "source": [
    "### Dataset\n",
    "\n",
    "In the example above we made up the decisions, but normally you would want to generate these based on the data. For this we'll use the weather dataset in the next cell, the objective of this dataset is to figure out if the weather conditions are such that it is nice enough to go and play outside. \n",
    "\n",
    "It has the following features, all of which are categorical.\n",
    "- outlook {sunny, overcast, rainy}\n",
    "- temperature {hot, mild, cool}\n",
    "- humidity {high, normal}\n",
    "- windy {TRUE, FALSE}\n",
    "\n",
    "And the target is:\n",
    "- Can we play outside today? {yes, no}\n",
    "\n",
    "The features are stored in X_train, each row in X_train is a different day/moment. y_train contains the label for each row."
   ]
  },
  {
   "cell_type": "code",
   "execution_count": 51,
   "metadata": {},
   "outputs": [
    {
     "name": "stdout",
     "output_type": "stream",
     "text": [
      "[['sunny', 'hot', 'high', 'FALSE'], ['sunny', 'hot', 'high', 'TRUE']]\n"
     ]
    }
   ],
   "source": [
    "X_train = [['sunny', 'hot', 'high', 'FALSE'],\n",
    " ['sunny', 'hot', 'high', 'TRUE'],\n",
    " ['overcast', 'hot', 'high', 'FALSE'],\n",
    " ['rainy', 'mild', 'high', 'FALSE'],\n",
    " ['rainy', 'cool', 'normal', 'FALSE'],\n",
    " ['rainy', 'cool', 'normal', 'TRUE'],\n",
    " ['overcast', 'cool', 'normal', 'TRUE'],\n",
    " ['sunny', 'mild', 'high', 'FALSE'],\n",
    " ['sunny', 'cool', 'normal', 'FALSE'],\n",
    " ['rainy', 'mild', 'normal', 'FALSE'],\n",
    " ['sunny', 'mild', 'normal', 'TRUE'],\n",
    " ['overcast', 'mild', 'high', 'TRUE'],\n",
    " ['overcast', 'hot', 'normal', 'FALSE'],\n",
    " ['rainy', 'mild', 'high', 'TRUE']]\n",
    "\n",
    "y_train = ['no', 'no', 'yes', 'yes', 'yes', 'no', 'yes', 'no', 'yes', 'yes', 'yes', 'yes', 'yes', 'no']\n",
    "print(X_train[:2])"
   ]
  },
  {
   "cell_type": "markdown",
   "metadata": {},
   "source": [
    "### Helper Functions\n",
    "\n",
    "Now let's define some functions that will be helpful to learn a decision tree and use it to make predictions\n",
    "\n",
    "First, let's define the function ```majority``` which takes a list of categorical values and returns the one which occurs most often.\n",
    "\n",
    "This would be helpful when creating a leaf node and you want to know what label to assign to `predict`."
   ]
  },
  {
   "cell_type": "code",
   "execution_count": 53,
   "metadata": {},
   "outputs": [],
   "source": [
    "def majority(a):\n",
    "    \n",
    "    tdict = {}\n",
    "\n",
    "    # build a dictionary where each key is the categorical label \n",
    "    # and the value is the number of times that label occurs\n",
    "    for item in set( a ): \n",
    "        tdict[item] = a.count( item )\n",
    "\n",
    "    # assending sort of the tdict entries based on\n",
    "    # the values (this is what is specified by the key parameter)\n",
    "    items = sorted( tdict.items(), key = lambda x: x[1] ) \n",
    "\n",
    "    # return the key ([0]) of the last entry in items ([-1])\n",
    "    # this will be the entry with the highest label count\n",
    "    return items[-1][0]"
   ]
  },
  {
   "cell_type": "code",
   "execution_count": 55,
   "metadata": {},
   "outputs": [],
   "source": [
    "# check the function works\n",
    "assert majority(y_train) == 'yes' and majority(y_train[:3]) == 'no', \"majority function contains a mistake\""
   ]
  },
  {
   "cell_type": "markdown",
   "metadata": {},
   "source": [
    "\n",
    "Now that we have a dataset we can figure out which questions to ask. To do this we first need to generate the set of potential questions. \n",
    "\n",
    "Because we are dealing with features which are categorical all our questions are going to be whether the feature's value is equal to a particular (of the form ```if temperature == 'hot'```). \n",
    "\n",
    "Here is a function ```question_set``` which takes ```X_train``` as input and returns the unique values in each column. One way to do this is to generate a list where the nth row contains the set of unique values in the nth column."
   ]
  },
  {
   "cell_type": "code",
   "execution_count": 58,
   "metadata": {},
   "outputs": [],
   "source": [
    "def question_set(X):\n",
    "    #................................\n",
    "\n",
    "    # build a list with one list for each feature\n",
    "    qset = []\n",
    "    for col in X[0]:\n",
    "        qset.append( [] )\n",
    "    \n",
    "    # for each item in X\n",
    "    for row in X:\n",
    "        # for each element in the row\n",
    "        for i,col in enumerate(row):\n",
    "            # add that item to the appropriate list in qset\n",
    "            qset[i].append(col)\n",
    "\n",
    "    # for each element in qset, convert the list to a set containing one instance\n",
    "    # of each label using list comprehensions\n",
    "    return [set(row) for row in qset]"
   ]
  },
  {
   "cell_type": "code",
   "execution_count": 59,
   "metadata": {},
   "outputs": [
    {
     "data": {
      "text/plain": [
       "[{'overcast', 'rainy', 'sunny'},\n",
       " {'cool', 'hot', 'mild'},\n",
       " {'high', 'normal'},\n",
       " {'FALSE', 'TRUE'}]"
      ]
     },
     "execution_count": 59,
     "metadata": {},
     "output_type": "execute_result"
    }
   ],
   "source": [
    "question_set(X_train)"
   ]
  },
  {
   "cell_type": "markdown",
   "metadata": {},
   "source": [
    "The function ```split``` in the cell below that takes the node defined below, ```X_train```, and ```y_train```, and returns four lists. The first containing the rows from X_train which have outlook == overcast, the second containing the labels for those rows. The third and fourth lists should contain the same but then for the rows which have a different outlook.\n",
    "\n",
    "Or in others words if we have a question (does `feature` equal `value`) this function determins how to split the dataset according to the answer."
   ]
  },
  {
   "cell_type": "code",
   "execution_count": 72,
   "metadata": {},
   "outputs": [],
   "source": [
    "def split(feature, value, X, y):\n",
    "    #................................\n",
    "    X_left = []\n",
    "    y_left = []\n",
    "    X_right = []\n",
    "    y_right = []\n",
    "    for row,label in zip(X,y):\n",
    "        if row[feature] == value:\n",
    "            X_left.append(row)\n",
    "            y_left.append(label)\n",
    "        else:\n",
    "            X_right.append(row)\n",
    "            y_right.append(label)\n",
    "    return X_left, y_left, X_right, y_right"
   ]
  },
  {
   "cell_type": "code",
   "execution_count": 29,
   "metadata": {},
   "outputs": [
    {
     "data": {
      "text/plain": [
       "([['overcast', 'hot', 'high', 'FALSE'],\n",
       "  ['overcast', 'cool', 'normal', 'TRUE'],\n",
       "  ['overcast', 'mild', 'high', 'TRUE'],\n",
       "  ['overcast', 'hot', 'normal', 'FALSE']],\n",
       " ['yes', 'yes', 'yes', 'yes'],\n",
       " [['sunny', 'hot', 'high', 'FALSE'],\n",
       "  ['sunny', 'hot', 'high', 'TRUE'],\n",
       "  ['rainy', 'mild', 'high', 'FALSE'],\n",
       "  ['rainy', 'cool', 'normal', 'FALSE'],\n",
       "  ['rainy', 'cool', 'normal', 'TRUE'],\n",
       "  ['sunny', 'mild', 'high', 'FALSE'],\n",
       "  ['sunny', 'cool', 'normal', 'FALSE'],\n",
       "  ['rainy', 'mild', 'normal', 'FALSE'],\n",
       "  ['sunny', 'mild', 'normal', 'TRUE'],\n",
       "  ['rainy', 'mild', 'high', 'TRUE']],\n",
       " ['no', 'no', 'yes', 'yes', 'no', 'no', 'yes', 'yes', 'yes', 'no'])"
      ]
     },
     "execution_count": 29,
     "metadata": {},
     "output_type": "execute_result"
    }
   ],
   "source": [
    "split(0, 'overcast', X_train, y_train)"
   ]
  },
  {
   "cell_type": "markdown",
   "metadata": {},
   "source": [
    "Once we know how to split the dataset based on questions, we need decide which questions to ask first. In the lecture we discussed how the best decision reduces the uncertainty the most. So let's write some functions to help us measure the uncertainty.\n",
    "\n",
    "## Entropy\n",
    "\n",
    "Entropy is a measure of uncertainty, Entropy is calculated as follows:\n",
    "\n",
    "$H(P) = - \\sum\\limits_{i=1}^N P_i \\log_2(P_i)$\n",
    "\n",
    "where in the case of a list of labels $P$ is a list and $P_i$ is the proportion of all `labels` that are equal to the $i^{th}$ label.\n"
   ]
  },
  {
   "cell_type": "markdown",
   "metadata": {},
   "source": [
    "### Exercise _ Entropy\n",
    "\n",
    "Write the ```entropy``` function in the cell below. "
   ]
  },
  {
   "cell_type": "code",
   "execution_count": 67,
   "metadata": {},
   "outputs": [],
   "source": [
    "from math import log2\n",
    "\n",
    "def entropy(labels):\n",
    "    \n",
    "    entropy= 0 \n",
    "    \n",
    "    for unique_label in set( labels ): \n",
    "        \n",
    "        p_i = labels.count(unique_label) / len(labels)\n",
    "        \n",
    "        entropy += p_i * log2 (p_i)\n",
    "\n",
    "    return -entropy"
   ]
  },
  {
   "cell_type": "markdown",
   "metadata": {},
   "source": [
    "Here are tests to verify that the entropy of the list ```[0,1]``` is `1.0`, of the list ```[-1,1,2,3]``` is 2.0, and that the entropy of the first 10 examples of y_train is higher than that of the whole y_train."
   ]
  },
  {
   "cell_type": "code",
   "execution_count": 68,
   "metadata": {},
   "outputs": [],
   "source": [
    "assert (entropy([0,1]) == 1.0 and\n",
    "        entropy([-1,1,2,3]) == 2.0 and\n",
    "        entropy(y_train[:10]) > entropy(y_train)), \"Your entropy function contains a mistake!\""
   ]
  },
  {
   "cell_type": "markdown",
   "metadata": {},
   "source": [
    "## Information gain\n",
    "\n",
    "However, just measuring the entropy at a certain point in the tree isn't enough. We need to know how much the entropy goes down if we make a certain decision. For decision trees a commonly used measure is Information Gain. The information gain is calculated by subtracting the entropy of the weighted sum of the child nodes from the entropy of the parent node. Typically weighting is done by the relative size of the children.\n",
    "\n",
    "$IG(P) = H(P) - \\sum\\limits_{i=1}^N w_i~H(C_i)$\n",
    "\n",
    "Here $N$ is the number of children, $C_i$ is the ith child, and $w_i$ is the weight given to the ith child. Given that we'll be dealing with decision trees which only have a left and a right child we can also write this out to be:\n",
    "\n",
    "$IG(P) = H(P) - w_\\text{left}~H(C_\\text{left}) - w_\\text{right}~H(C_\\text{right})$\n",
    "\n",
    "Usually the weight (i.e., $w_\\text{left}$) is equal to the proportion the child node has of the parent node. For example, if the parent contains $20$ instances, and after the decision the left child would have 15 and the right 5, then $w_\\text{left} = \\frac{15}{20}$ and $w_\\text{right} = \\frac{5}{20}$.\n",
    "\n",
    "In the cell below is an implementation of an information gain function. \n",
    "\n",
    "To verify it is correct you can split ```X_train``` and ```y_train``` using the split function. If correct, the information gain using node A should be higher than when using node B. The function should take the list of labels in the left branch and a list of labels in the right branch.\n"
   ]
  },
  {
   "cell_type": "code",
   "execution_count": 69,
   "metadata": {},
   "outputs": [],
   "source": [
    "def IG(left, right):\n",
    "    #..........................................\n",
    "    parent = left + right\n",
    "    w_left = len(left) / len(parent)\n",
    "    w_right = len(right) / len(parent)\n",
    "    return entropy(parent) - w_left*entropy(left) - w_right*entropy(right)"
   ]
  },
  {
   "cell_type": "code",
   "execution_count": 73,
   "metadata": {},
   "outputs": [
    {
     "name": "stdout",
     "output_type": "stream",
     "text": [
      "0.226\n",
      "0.102\n"
     ]
    }
   ],
   "source": [
    "# testing information gain of two different questions\n",
    "\n",
    "L, yL, R, yR = split(0, 'overcast', X_train, y_train)\n",
    "print(round(IG(yL,yR), 3))\n",
    "\n",
    "L, yL, R, yR = split(0, 'sunny', X_train, y_train)\n",
    "print(round(IG(yL,yR), 3))"
   ]
  },
  {
   "cell_type": "markdown",
   "metadata": {},
   "source": [
    "We have all the building blocks we need to start fitting a tree to a dataset. Let's give it a go!\n",
    "\n",
    "### Exercise _ Fit a decision tree\n",
    "\n",
    "Implement the ```fit(X,y)``` function below, where X is a matrix of features and y is a list of labels. It should return a tree (i.e., a instance of the Node() class).\n"
   ]
  },
  {
   "cell_type": "code",
   "execution_count": 74,
   "metadata": {},
   "outputs": [],
   "source": [
    "def fit(X, y):\n",
    "    #........................................\n",
    "\n",
    "    # define the behavior of the base case\n",
    "    if  entropy(y) == 0:\n",
    "        return Node(predict=majority(y))         # return a new leaf node\n",
    "    else: # define the behavior of the recursive step\n",
    "\n",
    "        # generate a set of candidate questions\n",
    "        qs = question_set(X)\n",
    "\n",
    "        # store the question with the best gain so far\n",
    "        best_gain = 0\n",
    "        best_feature = None\n",
    "        best_value = None\n",
    "        \n",
    "        # for each question in the set of questions\n",
    "        for feature, row in enumerate(qs):\n",
    "            for value in row:\n",
    "\n",
    "                # determine the split based on this candidate question \n",
    "                Xleft, yleft, Xright, yright = split(feature, value, X, y)\n",
    "\n",
    "                # compute the information gain\n",
    "                gain = IG(yleft, yright)\n",
    "\n",
    "                # determine if the gain for this question is the best so far\n",
    "                if gain > best_gain:\n",
    "                    best_gain = gain\n",
    "                    best_feature = feature\n",
    "                    best_value = value\n",
    "\n",
    "        # split the data based on the best question\n",
    "        Xleft, yleft, Xright, yright = split(best_feature, best_value, X, y)\n",
    "\n",
    "        # recurse on each branch\n",
    "        left = fit(Xleft, yleft)\n",
    "        right = fit(Xright, yright)\n",
    "\n",
    "        # return a new node with the best question and \n",
    "        return Node(feature=best_feature, value=best_value, left=left, right=right)"
   ]
  },
  {
   "cell_type": "code",
   "execution_count": 75,
   "metadata": {},
   "outputs": [
    {
     "name": "stdout",
     "output_type": "stream",
     "text": [
      "if features[0] != \"overcast\" then:\n",
      " \tPredict: \"yes\" \n",
      "else:\n",
      " \tif features[2] != \"normal\" then:\n",
      " \t\tif features[3] != \"TRUE\" then:\n",
      " \t\t\tif features[0] != \"sunny\" then:\n",
      " \t\t\t\tPredict: \"yes\" \n",
      "\t\t\telse:\n",
      " \t\t\t\tPredict: \"no\" \n",
      "\t\telse:\n",
      " \t\t\tPredict: \"yes\" \n",
      "\telse:\n",
      " \t\tif features[0] != \"sunny\" then:\n",
      " \t\t\tPredict: \"no\" \n",
      "\t\telse:\n",
      " \t\t\tif features[3] != \"TRUE\" then:\n",
      " \t\t\t\tPredict: \"no\" \n",
      "\t\t\telse:\n",
      " \t\t\t\tPredict: \"yes\"\n"
     ]
    }
   ],
   "source": [
    "# testing\n",
    "decision_tree = fit(X_train, y_train)\n",
    "print(pretty(decision_tree))"
   ]
  },
  {
   "cell_type": "markdown",
   "metadata": {},
   "source": [
    "### Exercise _ Predict function\n",
    "\n",
    "Once we have fit a decision tree we would like to verify how well it works, and use it to predict the label for new samples. Implement the `predict` function in the cell below, where `tree` is a fit tree, and `x` is one feature vector (a list). It should return a single label, either 'yes' or 'no'.\n",
    "\n",
    "**Hints:**\n",
    "- What is the base case? Is there a function we wrote to determine this easily?\n",
    "- Remember that going left or right depends on if the feature value stored in this tree node (the `value` key) matches the  "
   ]
  },
  {
   "cell_type": "code",
   "execution_count": 76,
   "metadata": {},
   "outputs": [],
   "source": [
    "def predict(tree, x):\n",
    "    #............................................\n",
    "    if isLeaf(tree):\n",
    "        return tree['predict']\n",
    "    else:\n",
    "        tree_feature_value = tree['value']\n",
    "        item_feature_value = x[tree['feature']]\n",
    "        if tree_feature_value == item_feature_value:\n",
    "            return predict(tree['left'], x)\n",
    "        else:\n",
    "            return predict(tree['right'], x)"
   ]
  },
  {
   "cell_type": "code",
   "execution_count": 77,
   "metadata": {},
   "outputs": [
    {
     "name": "stdout",
     "output_type": "stream",
     "text": [
      "\t\tData\t\t\tTruth\tPrediction\n",
      "['sunny', 'hot', 'high', 'FALSE'] \t no \t no\n",
      "['sunny', 'hot', 'high', 'TRUE'] \t no \t no\n",
      "['overcast', 'hot', 'high', 'FALSE'] \t yes \t yes\n",
      "['rainy', 'mild', 'high', 'FALSE'] \t yes \t yes\n",
      "['rainy', 'cool', 'normal', 'FALSE'] \t yes \t yes\n",
      "['rainy', 'cool', 'normal', 'TRUE'] \t no \t no\n",
      "['overcast', 'cool', 'normal', 'TRUE'] \t yes \t yes\n",
      "['sunny', 'mild', 'high', 'FALSE'] \t no \t no\n",
      "['sunny', 'cool', 'normal', 'FALSE'] \t yes \t yes\n",
      "['rainy', 'mild', 'normal', 'FALSE'] \t yes \t yes\n",
      "['sunny', 'mild', 'normal', 'TRUE'] \t yes \t yes\n",
      "['overcast', 'mild', 'high', 'TRUE'] \t yes \t yes\n",
      "['overcast', 'hot', 'normal', 'FALSE'] \t yes \t yes\n",
      "['rainy', 'mild', 'high', 'TRUE'] \t no \t no\n"
     ]
    }
   ],
   "source": [
    "# This code applies the predict function to each row in the training data\n",
    "print('\\t\\tData\\t\\t\\tTruth\\tPrediction')\n",
    "for row, label in zip(X_train, y_train):\n",
    "    print(row, '\\t', label, '\\t', predict(decision_tree, row))"
   ]
  },
  {
   "cell_type": "code",
   "execution_count": null,
   "metadata": {},
   "outputs": [],
   "source": []
  }
 ],
 "metadata": {
  "kernelspec": {
   "display_name": "Python 3 (ipykernel)",
   "language": "python",
   "name": "python3"
  },
  "language_info": {
   "codemirror_mode": {
    "name": "ipython",
    "version": 3
   },
   "file_extension": ".py",
   "mimetype": "text/x-python",
   "name": "python",
   "nbconvert_exporter": "python",
   "pygments_lexer": "ipython3",
   "version": "3.11.5"
  }
 },
 "nbformat": 4,
 "nbformat_minor": 4
}
