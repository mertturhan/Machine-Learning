{
 "cells": [
  {
   "cell_type": "code",
   "execution_count": 3,
   "id": "0831bf6a",
   "metadata": {},
   "outputs": [],
   "source": [
    "import matplotlib.pyplot as plt\n",
    "import numpy as np\n",
    "import pandas as pd\n",
    "from sklearn.metrics import mean_absolute_error, mean_squared_error, accuracy_score, confusion_matrix, precision_score, recall_score, f1_score"
   ]
  },
  {
   "cell_type": "code",
   "execution_count": 4,
   "id": "ad1053dc",
   "metadata": {},
   "outputs": [],
   "source": [
    "data = [0.6, 1.4, 2, 2.1, 2.5, 4, 5, 5.5, 6, 7.8, 8, 14]\n",
    "prediction1 = [-0.41, 0.55, 1.52, 2.49, 3.46, 4.42, 5.39, 6.36, 7.33, 8.3, 9.27, 10.23]\n",
    "prediction2 = [-1.41, -0.25, 0.92, 2.09, 3.26, 4.42, 5.59, 6.76, 7.93, 9.1, 10.27, 11.43]"
   ]
  },
  {
   "cell_type": "code",
   "execution_count": 5,
   "id": "0b0dc212",
   "metadata": {},
   "outputs": [
    {
     "data": {
      "text/plain": [
       "<matplotlib.legend.Legend at 0x17e194150>"
      ]
     },
     "execution_count": 5,
     "metadata": {},
     "output_type": "execute_result"
    },
    {
     "data": {
      "image/png": "[encoded data removed]",
      "text/plain": [
       "<Figure size 640x480 with 1 Axes>"
      ]
     },
     "metadata": {},
     "output_type": "display_data"
    }
   ],
   "source": [
    "plt.scatter(range(len(data)), data, label='original points')\n",
    "plt.scatter(range(len(data)), prediction1, label='Prediction 1')\n",
    "plt.scatter(range(len(data)), prediction2, label='Prediction 2')\n",
    "plt.legend()"
   ]
  },
  {
   "cell_type": "code",
   "execution_count": 8,
   "id": "147eecba",
   "metadata": {},
   "outputs": [
    {
     "name": "stdout",
     "output_type": "stream",
     "text": [
      "MAE: 3.966\n"
     ]
    }
   ],
   "source": [
    "volume = [8.3, 9.27, 10.23, -0.41, 0.55, 1.52, 2.49, 3.46, 4.42, 5.39, 6.36, 7.33]\n",
    "predicted_volume = [0.6, 1.4, 2, 2.1, 2.5, 4, 5, 5.5, 6, 7.8, 8, 14]\n",
    "\n",
    "sum_abs = 0\n",
    "for i in range(len(volume)):\n",
    "    sum_abs = sum_abs + np.abs(volume[i]-predicted_volume[i])\n",
    "    \n",
    "mae_xy = sum_abs / (len(volume))\n",
    "print(f'MAE: {mae_xy:.3f}')"
   ]
  },
  {
   "cell_type": "code",
   "execution_count": 9,
   "id": "20159058",
   "metadata": {},
   "outputs": [],
   "source": [
    "def mean_absolute_error(true, pred):\n",
    "    sumabs=0\n",
    "    if(len(true)==len(pred)):\n",
    "        for i in range(len(pred)):\n",
    "            sumabs += np.abs(true[i]-pred[i])\n",
    "        mean_abs_error= sumabs/len(pred)\n",
    "        return mean_abs_error\n",
    "    else:\n",
    "        raise ValueError(\"The lenghts of lists must be the same\")"
   ]
  },
  {
   "cell_type": "code",
   "execution_count": 11,
   "id": "f3c28dca",
   "metadata": {},
   "outputs": [
    {
     "name": "stdout",
     "output_type": "stream",
     "text": [
      "Prediction 1:\n",
      "\tMSE: 1.830\n",
      "Prediction 2:\n",
      "\tMSE: 2.316\n"
     ]
    }
   ],
   "source": [
    "print('Prediction 1:')\n",
    "print(f'\\tMSE: {mean_squared_error(data, prediction1):04.3f}')\n",
    "print('Prediction 2:')\n",
    "print(f'\\tMSE: {mean_squared_error(data, prediction2):04.3f}')"
   ]
  },
  {
   "cell_type": "code",
   "execution_count": 46,
   "id": "c245a8da",
   "metadata": {},
   "outputs": [],
   "source": [
    "def mean_squared_err(true,pred):\n",
    "    sumsqr=0\n",
    "    if(len(true)==len(pred)):\n",
    "        for i in range(len(pred)):\n",
    "            sumsqr += (true[i]-pred[i])**2\n",
    "        mean_sqr_error= sumsqr/len(pred)\n",
    "        return mean_sqr_error\n",
    "    else:\n",
    "        raise ValueError(\"The lenghts of lists must be the same\")"
   ]
  },
  {
   "cell_type": "code",
   "execution_count": 47,
   "id": "a5a0c154",
   "metadata": {},
   "outputs": [
    {
     "name": "stdout",
     "output_type": "stream",
     "text": [
      "Prediction 1:\n",
      "\tMSE: 1.830\n",
      "Prediction 2:\n",
      "\tMSE: 2.316\n"
     ]
    }
   ],
   "source": [
    "print('Prediction 1:')\n",
    "print(f'\\tMSE: {mean_squared_err(data, prediction1):04.3f}')\n",
    "print('Prediction 2:')\n",
    "print(f'\\tMSE: {mean_squared_err(data, prediction2):04.3f}')"
   ]
  },
  {
   "cell_type": "code",
   "execution_count": 19,
   "id": "c8656e36",
   "metadata": {},
   "outputs": [],
   "source": [
    "def mean_absolute_e(true, pred):\n",
    "    sumabs = sum(abs(true[i]-pred[i]) for i in range(len(true)))\n",
    "    return sumabs/len(true)"
   ]
  },
  {
   "cell_type": "code",
   "execution_count": 20,
   "id": "27579eed",
   "metadata": {},
   "outputs": [
    {
     "name": "stdout",
     "output_type": "stream",
     "text": [
      "Prediction 1:\n",
      "\tMAE: 1.019\n",
      "Prediction 2:\n",
      "\tMAE: 1.321\n"
     ]
    }
   ],
   "source": [
    "print('Prediction 1:')\n",
    "print(f'\\tMAE: {mean_absolute_e(data, prediction1):04.3f}')\n",
    "print('Prediction 2:')\n",
    "print(f'\\tMAE: {mean_absolute_e(data, prediction2):04.3f}')"
   ]
  },
  {
   "cell_type": "code",
   "execution_count": 24,
   "id": "a3165ae4",
   "metadata": {},
   "outputs": [],
   "source": [
    "def mean_sqr_e(true,pred):\n",
    "    sumsqr = sum((true[i]-pred[i])**2 for i in range(len(true)))\n",
    "    return sumsqr / len(true)"
   ]
  },
  {
   "cell_type": "code",
   "execution_count": 25,
   "id": "8d662ac5",
   "metadata": {},
   "outputs": [
    {
     "name": "stdout",
     "output_type": "stream",
     "text": [
      "Prediction 1:\n",
      "\tMSE: 1.830\n",
      "Prediction 2:\n",
      "\tMSE: 2.316\n"
     ]
    }
   ],
   "source": [
    "print('Prediction 1:')\n",
    "print(f'\\tMSE: {mean_sqr_e(data, prediction1):04.3f}')\n",
    "print('Prediction 2:')\n",
    "print(f'\\tMSE: {mean_sqr_e(data, prediction2):04.3f}')"
   ]
  },
  {
   "cell_type": "code",
   "execution_count": 41,
   "id": "12f679ca",
   "metadata": {},
   "outputs": [],
   "source": [
    "def mean_a(true,pred):\n",
    "    return np.mean(np.abs(np.array(true) - np.array(pred)))"
   ]
  },
  {
   "cell_type": "code",
   "execution_count": 42,
   "id": "b90dec0c",
   "metadata": {},
   "outputs": [
    {
     "name": "stdout",
     "output_type": "stream",
     "text": [
      "Prediction 1:\n",
      "\tMAE: 1.019\n",
      "Prediction 2:\n",
      "\tMAE: 1.321\n"
     ]
    }
   ],
   "source": [
    "print('Prediction 1:')\n",
    "print(f'\\tMAE: {mean_a(data, prediction1):04.3f}')\n",
    "print('Prediction 2:')\n",
    "print(f'\\tMAE: {mean_a(data, prediction2):04.3f}')"
   ]
  },
  {
   "cell_type": "code",
   "execution_count": 43,
   "id": "98cbb0f6",
   "metadata": {},
   "outputs": [],
   "source": [
    "def mean_s(true, pred):\n",
    "    return np.mean(np.square(np.array(true)-np.array(pred)))"
   ]
  },
  {
   "cell_type": "code",
   "execution_count": 45,
   "id": "c1644050",
   "metadata": {},
   "outputs": [
    {
     "name": "stdout",
     "output_type": "stream",
     "text": [
      "Prediction 1:\n",
      "\tMSE: 1.830\n",
      "Prediction 2:\n",
      "\tMSE: 2.316\n"
     ]
    }
   ],
   "source": [
    "print('Prediction 1:')\n",
    "print(f'\\tMSE: {mean_s(data, prediction1):04.3f}')\n",
    "print('Prediction 2:')\n",
    "print(f'\\tMSE: {mean_s(data, prediction2):04.3f}')"
   ]
  },
  {
   "cell_type": "code",
   "execution_count": 48,
   "id": "478b9351",
   "metadata": {},
   "outputs": [
    {
     "name": "stdout",
     "output_type": "stream",
     "text": [
      "Prediction 1:\n",
      "\tMSE: 1.019\n",
      "Prediction 2:\n",
      "\tMSE: 2.316\n"
     ]
    }
   ],
   "source": [
    "print('Prediction 1:')\n",
    "scikit_learn_mse = mean_absolute_error(data,prediction1)\n",
    "print(f'\\tMSE: {scikit_learn_mse:04.3f}')\n",
    "print('Prediction 2:')\n",
    "scikit_learn_mse = mean_squared_error(data,prediction2)\n",
    "print(f'\\tMSE: {scikit_learn_mse:04.3f}')"
   ]
  },
  {
   "cell_type": "code",
   "execution_count": 49,
   "id": "5183997f",
   "metadata": {},
   "outputs": [],
   "source": [
    "spam = [0, 0, 1, 0, 1, 0, 0, 1, 0, 0, 0, 0, 0, 0, 0, 1, 0, 0, 0, 0, 0, 0, 0, 0, 1, \n",
    "           0, 0, 0, 0, 0, 0, 0, 0, 1, 0, 1, 0, 0, 0, 0, 0, 0, 0, 0, 0, 0, 0, 0, 0, 0, \n",
    "           0, 1, 1, 1, 0, 1, 0, 0, 1, 0, 0, 0, 0, 0, 0, 0, 0, 0, 0, 0, 0, 0, 1, 0, 0, \n",
    "           0, 1, 0, 0, 0, 0, 0, 0, 0, 0, 0, 0, 0, 0, 1, 0, 1, 0, 0, 0, 0, 0, 1, 0, 0]\n",
    "\n",
    "flagged = [1, 0, 1, 0, 1, 0, 0, 0, 0, 0, 0, 0, 0, 0, 0, 1, 0, 0, 0, 0, 0, 0, 0, 0, 0,\n",
    "               0, 0, 0, 0, 0, 0, 0, 0, 0, 0, 0, 0, 0, 0, 0, 0, 0, 0, 0, 0, 0, 0, 0, 0, 0,\n",
    "               0, 1, 1, 0, 1, 1, 0, 0, 0, 0, 0, 0, 0, 0, 0, 0, 0, 0, 0, 0, 0, 0, 1, 0, 0,\n",
    "               0, 1, 0, 0, 0, 0, 0, 0, 0, 0, 0, 0, 0, 0, 1, 1, 1, 0, 0, 0, 0, 0, 1, 0, 0]"
   ]
  },
  {
   "cell_type": "code",
   "execution_count": 53,
   "id": "56798e14",
   "metadata": {},
   "outputs": [
    {
     "data": {
      "text/plain": [
       "0.91"
      ]
     },
     "execution_count": 53,
     "metadata": {},
     "output_type": "execute_result"
    }
   ],
   "source": [
    "sum_eq = 0\n",
    "for i in range(len(spam)):\n",
    "    sum_eq += spam[i] == flagged[i]\n",
    "accuracy = sum_eq/len(spam)\n",
    "accuracy"
   ]
  },
  {
   "cell_type": "code",
   "execution_count": 54,
   "id": "10a08d45",
   "metadata": {},
   "outputs": [],
   "source": [
    "def accuracy(y_true, y_pred):\n",
    "    \n",
    "    sum_eq = 0\n",
    "    for i in range(len(y_true)):\n",
    "        sum_eq += y_true[i] == y_pred[i]\n",
    "    return sum_eq / len(spam)"
   ]
  },
  {
   "cell_type": "code",
   "execution_count": 55,
   "id": "f1eb8f7b",
   "metadata": {},
   "outputs": [
    {
     "name": "stdout",
     "output_type": "stream",
     "text": [
      "0.91\n"
     ]
    }
   ],
   "source": [
    "print(accuracy(spam, flagged))"
   ]
  },
  {
   "cell_type": "code",
   "execution_count": 57,
   "id": "74fbba78",
   "metadata": {},
   "outputs": [
    {
     "name": "stdout",
     "output_type": "stream",
     "text": [
      "0.91\n"
     ]
    }
   ],
   "source": [
    "# Using List comprehension\n",
    "def accuracy(y_true, y_pred):\n",
    "    \"\"\"A function which takes two lists and returns the accuracy\"\"\"\n",
    "    #..............................................................\n",
    "    \n",
    "    return(sum(y_true[i]==y_pred[i] for i in range(len(y_true)))) / len(y_true)\n",
    "\n",
    "print(accuracy(spam, flagged))"
   ]
  },
  {
   "cell_type": "code",
   "execution_count": 59,
   "id": "0c783468",
   "metadata": {},
   "outputs": [
    {
     "name": "stdout",
     "output_type": "stream",
     "text": [
      "0.91\n"
     ]
    }
   ],
   "source": [
    "def accuracy(true, pred):\n",
    "    return np.mean(np.array(true)==np.array(pred))\n",
    "\n",
    "print(accuracy(spam, flagged))"
   ]
  },
  {
   "cell_type": "code",
   "execution_count": 60,
   "id": "cce1dafa",
   "metadata": {},
   "outputs": [
    {
     "name": "stdout",
     "output_type": "stream",
     "text": [
      "Accuracy using Scikit-learn library: 0.91\n"
     ]
    }
   ],
   "source": [
    "print(f'Accuracy using Scikit-learn library: {accuracy_score(spam, flagged)}')\n"
   ]
  },
  {
   "cell_type": "code",
   "execution_count": 61,
   "id": "a5149c5a",
   "metadata": {},
   "outputs": [
    {
     "name": "stdout",
     "output_type": "stream",
     "text": [
      "[[80  3]\n",
      " [ 6 11]]\n"
     ]
    }
   ],
   "source": [
    "CM = confusion_matrix(spam, flagged)\n",
    "print(CM)"
   ]
  },
  {
   "cell_type": "code",
   "execution_count": 62,
   "id": "4ec96650",
   "metadata": {},
   "outputs": [],
   "source": [
    "tp = CM[1,1]\n",
    "fp = CM[0,1]\n",
    "fn = CM[1,0]"
   ]
  },
  {
   "cell_type": "code",
   "execution_count": 63,
   "id": "63895c26",
   "metadata": {},
   "outputs": [],
   "source": [
    "precision = tp / (tp+fp)\n",
    "recall = tp / (tp+fn)"
   ]
  },
  {
   "cell_type": "code",
   "execution_count": 64,
   "id": "d9cf10c7",
   "metadata": {},
   "outputs": [
    {
     "name": "stdout",
     "output_type": "stream",
     "text": [
      "0.786\n"
     ]
    }
   ],
   "source": [
    "print(round(precision, 3))"
   ]
  },
  {
   "cell_type": "code",
   "execution_count": 65,
   "id": "8f66a94d",
   "metadata": {},
   "outputs": [
    {
     "name": "stdout",
     "output_type": "stream",
     "text": [
      "0.647\n"
     ]
    }
   ],
   "source": [
    "print(round(recall, 3))"
   ]
  },
  {
   "cell_type": "code",
   "execution_count": 72,
   "id": "791c2c3d",
   "metadata": {},
   "outputs": [
    {
     "data": {
      "text/plain": [
       "0.786"
      ]
     },
     "execution_count": 72,
     "metadata": {},
     "output_type": "execute_result"
    }
   ],
   "source": [
    "round(precision_score(spam, flagged),3)"
   ]
  },
  {
   "cell_type": "code",
   "execution_count": 71,
   "id": "6527e3ac",
   "metadata": {},
   "outputs": [
    {
     "data": {
      "text/plain": [
       "0.647"
      ]
     },
     "execution_count": 71,
     "metadata": {},
     "output_type": "execute_result"
    }
   ],
   "source": [
    "round(recall_score(spam,flagged),3)"
   ]
  },
  {
   "cell_type": "code",
   "execution_count": 70,
   "id": "03b27a43",
   "metadata": {},
   "outputs": [
    {
     "name": "stdout",
     "output_type": "stream",
     "text": [
      "0.48\n"
     ]
    }
   ],
   "source": [
    "example_precision = 0.4\n",
    "example_recall = 0.6\n",
    "\n",
    "F1 = (2 * example_precision*example_recall) / (example_precision+example_recall)\n",
    "print(F1)"
   ]
  },
  {
   "cell_type": "code",
   "execution_count": 73,
   "id": "5f448430",
   "metadata": {},
   "outputs": [],
   "source": [
    "def f_score(p, r):\n",
    "    return (2*p*r) / (p+r)"
   ]
  },
  {
   "cell_type": "code",
   "execution_count": 74,
   "id": "60f268c3",
   "metadata": {},
   "outputs": [
    {
     "name": "stdout",
     "output_type": "stream",
     "text": [
      "0.48\n"
     ]
    }
   ],
   "source": [
    "print(f_score(0.4, 0.6))"
   ]
  },
  {
   "cell_type": "code",
   "execution_count": 78,
   "id": "fbcac9a4",
   "metadata": {},
   "outputs": [],
   "source": [
    "def f_beta_score(p, r, b=1):\n",
    "    return (1+b**2)*(p*r)/((b**2*(p))+r)"
   ]
  },
  {
   "cell_type": "code",
   "execution_count": 79,
   "id": "8ced4d6a",
   "metadata": {},
   "outputs": [
    {
     "name": "stdout",
     "output_type": "stream",
     "text": [
      "0.48\n",
      "0.429\n",
      "0.545\n"
     ]
    }
   ],
   "source": [
    "print(f_beta_score(0.4, 0.6, 1))\n",
    "print(round(f_beta_score(0.4, 0.6, 0.5), 3))\n",
    "print(round(f_beta_score(0.4, 0.6, 2), 3))"
   ]
  },
  {
   "cell_type": "code",
   "execution_count": 80,
   "id": "f98aed10",
   "metadata": {},
   "outputs": [],
   "source": [
    "def f_score(precision, recall):\n",
    "    return f_beta_score(precision, recall, b=1)"
   ]
  },
  {
   "cell_type": "code",
   "execution_count": 81,
   "id": "76232024",
   "metadata": {},
   "outputs": [
    {
     "name": "stdout",
     "output_type": "stream",
     "text": [
      "0.48\n"
     ]
    }
   ],
   "source": [
    "print(f_score(0.4, 0.6))"
   ]
  },
  {
   "cell_type": "code",
   "execution_count": 84,
   "id": "0c1d6abd",
   "metadata": {},
   "outputs": [
    {
     "name": "stdout",
     "output_type": "stream",
     "text": [
      "0.71\n"
     ]
    }
   ],
   "source": [
    "score = f1_score(spam, flagged)\n",
    "print(round(score, 3))"
   ]
  },
  {
   "cell_type": "code",
   "execution_count": 97,
   "id": "b4c93b6f",
   "metadata": {},
   "outputs": [
    {
     "data": {
      "text/plain": [
       "Text(0, 0.5, 'F-beta score')"
      ]
     },
     "execution_count": 97,
     "metadata": {},
     "output_type": "execute_result"
    },
    {
     "data": {
      "image/png": "[encoded data removed]",
      "text/plain": [
       "<Figure size 640x480 with 1 Axes>"
      ]
     },
     "metadata": {},
     "output_type": "display_data"
    }
   ],
   "source": [
    "example_precision = 0.4\n",
    "example_recall = 0.9\n",
    "beta = [x*0.1 for x in range(0,100)]\n",
    "\n",
    "plt.plot(beta, [f_beta_score(example_precision, example_recall, b=b) for b in beta])\n",
    "plt.xlabel('Value of beta')\n",
    "plt.ylabel('F-beta score')"
   ]
  },
  {
   "cell_type": "code",
   "execution_count": 96,
   "id": "363e8b9b",
   "metadata": {},
   "outputs": [
    {
     "data": {
      "text/plain": [
       "Text(0, 0.5, 'F-beta score')"
      ]
     },
     "execution_count": 96,
     "metadata": {},
     "output_type": "execute_result"
    },
    {
     "data": {
      "image/png": "[encoded data removed]",
      "text/plain": [
       "<Figure size 640x480 with 1 Axes>"
      ]
     },
     "metadata": {},
     "output_type": "display_data"
    }
   ],
   "source": [
    "example_precision = 0.9\n",
    "example_recall = 0.6\n",
    "beta = [0.1*x for x in range(0,100)]\n",
    "\n",
    "plt.plot(beta, [f_beta_score(example_precision, example_recall, b=b) for b in beta])\n",
    "plt.xlabel('Value of beta')\n",
    "plt.ylabel('F-beta score')"
   ]
  },
  {
   "cell_type": "code",
   "execution_count": null,
   "id": "565f5c26",
   "metadata": {},
   "outputs": [],
   "source": []
  }
 ],
 "metadata": {
  "kernelspec": {
   "display_name": "Python 3 (ipykernel)",
   "language": "python",
   "name": "python3"
  },
  "language_info": {
   "codemirror_mode": {
    "name": "ipython",
    "version": 3
   },
   "file_extension": ".py",
   "mimetype": "text/x-python",
   "name": "python",
   "nbconvert_exporter": "python",
   "pygments_lexer": "ipython3",
   "version": "3.11.5"
  }
 },
 "nbformat": 4,
 "nbformat_minor": 5
}
