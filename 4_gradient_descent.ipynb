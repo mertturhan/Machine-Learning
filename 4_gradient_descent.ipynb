{
 "cells": [
  {
   "cell_type": "markdown",
   "metadata": {},
   "source": [
    "# Function minimization\n",
    "\n",
    "At this week's lecture we discussed how learning a set of weights (aka parameters) can be treated as the task of minimizing an error function. \n",
    "\n",
    "Scipy privides a number of ways of finding minima of arbitrary functions. We'll test one of them."
   ]
  },
  {
   "cell_type": "code",
   "execution_count": 3,
   "metadata": {},
   "outputs": [],
   "source": [
    "import numpy\n",
    "from scipy.optimize import fmin_bfgs, fmin"
   ]
  },
  {
   "cell_type": "markdown",
   "metadata": {},
   "source": [
    "The function `fmin_bfgs` uses the function optimization method called \n",
    "[BFGS](https://en.wikipedia.org/wiki/Broyden%E2%80%93Fletcher%E2%80%93Goldfarb%E2%80%93Shanno_algorithm).\n",
    "We need to give it the following arguments:\n",
    "- f: the function to minimize\n",
    "- x0: the initial guess of the argument with respect to which we're minimizing\n",
    "- fprime: the first derivative of f. If we omit it, `fmin_bfgs` will use a numerical approximatiom\n",
    "\n",
    "For example, consider the following polynomial function: $f(x) = x^4 - 10x^3 + x^2 + x - 4$\n",
    "\n"
   ]
  },
  {
   "cell_type": "code",
   "execution_count": 4,
   "metadata": {},
   "outputs": [],
   "source": [
    "def f(x):\n",
    "    return x**4 - 10*x**3 + x**2 + x -4\n",
    "\n",
    "def fprime(x):\n",
    "    \"\"\"First derivative of f(x) = x^4 - 10x^3 + x^2 + x - 4\"\"\"\n",
    "    return 4*x**3 - 30*x**2 + 2*x + 1"
   ]
  },
  {
   "cell_type": "code",
   "execution_count": 5,
   "metadata": {},
   "outputs": [
    {
     "data": {
      "text/plain": [
       "[<matplotlib.lines.Line2D at 0x126fe2d10>]"
      ]
     },
     "execution_count": 5,
     "metadata": {},
     "output_type": "execute_result"
    },
    {
     "data": {
      "image/png": "[encoded data removed]",
      "text/plain": [
       "<Figure size 640x480 with 1 Axes>"
      ]
     },
     "metadata": {},
     "output_type": "display_data"
    }
   ],
   "source": [
    "# The following lines will import the matplotlib library and enable plots to appear in the body of the notebook.\n",
    "%matplotlib inline\n",
    "from matplotlib import pyplot\n",
    "\n",
    "x = numpy.linspace(-2,10,1000)\n",
    "pyplot.plot(x,f(x))"
   ]
  },
  {
   "cell_type": "markdown",
   "metadata": {},
   "source": [
    "Let's find the minimum, using 0 as a starting point:"
   ]
  },
  {
   "cell_type": "code",
   "execution_count": 6,
   "metadata": {},
   "outputs": [
    {
     "name": "stdout",
     "output_type": "stream",
     "text": [
      "Optimization terminated successfully.\n",
      "         Current function value: -4.093250\n",
      "         Iterations: 5\n",
      "         Function evaluations: 8\n",
      "         Gradient evaluations: 8\n",
      "[-0.15101745]\n"
     ]
    }
   ],
   "source": [
    "print(fmin_bfgs(f, x0=0, fprime=fprime))"
   ]
  },
  {
   "cell_type": "markdown",
   "metadata": {},
   "source": [
    "Now let's omit the exact derivative of f and let `fmin_bfgs` use a numerical approximation of the derivative. The results should be close."
   ]
  },
  {
   "cell_type": "code",
   "execution_count": 7,
   "metadata": {},
   "outputs": [
    {
     "name": "stdout",
     "output_type": "stream",
     "text": [
      "Optimization terminated successfully.\n",
      "         Current function value: -4.093250\n",
      "         Iterations: 5\n",
      "         Function evaluations: 16\n",
      "         Gradient evaluations: 8\n",
      "[-0.15101746]\n"
     ]
    }
   ],
   "source": [
    "print(fmin_bfgs(f, x0=0))"
   ]
  },
  {
   "cell_type": "markdown",
   "metadata": {},
   "source": [
    "We can suppress the messages using disp=False:"
   ]
  },
  {
   "cell_type": "code",
   "execution_count": 8,
   "metadata": {},
   "outputs": [
    {
     "name": "stdout",
     "output_type": "stream",
     "text": [
      "[-0.15101746]\n"
     ]
    }
   ],
   "source": [
    "print(fmin_bfgs(f, x0=0, disp=False))"
   ]
  },
  {
   "cell_type": "markdown",
   "metadata": {},
   "source": [
    "### Exercise 1 _ Local minimum\n",
    "Looks like we got stuck in a local miniumum. Print the values of `x` where `f(x)` has a minimum findable from the following starting points: -2, 0, 2, 6, 10"
   ]
  },
  {
   "cell_type": "code",
   "execution_count": 11,
   "metadata": {},
   "outputs": [
    {
     "name": "stdout",
     "output_type": "stream",
     "text": [
      "Starting at -2 found minimum at [-0.15101746]\n",
      "Starting at 0 found minimum at [-0.15101746]\n",
      "Starting at 2 found minimum at [-0.15101746]\n",
      "Starting at 6 found minimum at [-0.15101746]\n",
      "Starting at 10 found minimum at [-0.15101746]\n"
     ]
    }
   ],
   "source": [
    "for x0 in [-2, 0, 2, 6, 10]:\n",
    "    x_min = fmin_bfgs(f, x0=0, disp=False)\n",
    "    print(f'Starting at {x0} found minimum at {x_min}')"
   ]
  },
  {
   "cell_type": "markdown",
   "metadata": {},
   "source": [
    "\n",
    "We can also use `fmin_bfgs` to minimize functions which take vectors rather than single numbers. For example, let's find the $x_1$ and $x_2$ which minimize the function $g(\\mathbf{x}) = x_1^2 + x_2^2$ ."
   ]
  },
  {
   "cell_type": "code",
   "execution_count": 8,
   "metadata": {},
   "outputs": [
    {
     "name": "stdout",
     "output_type": "stream",
     "text": [
      "Starting at [-1 -1] found minimum at [-7.13245457e-09 -7.13245452e-09]\n",
      "Starting at [1 1] found minimum at [-1.07505143e-08 -1.07505143e-08]\n"
     ]
    }
   ],
   "source": [
    "def g(x):\n",
    "    return (x**2).sum()\n",
    "\n",
    "x0 = numpy.array([-1, -1])\n",
    "x1 = numpy.array([1,1])\n",
    "\n",
    "print(\"Starting at {} found minimum at {}\".format(x0, fmin_bfgs(g, x0=x0, disp=False)))\n",
    "print(\"Starting at {} found minimum at {}\".format(x1, fmin_bfgs(g, x0=x1, disp=False)))"
   ]
  },
  {
   "cell_type": "markdown",
   "metadata": {},
   "source": [
    "### Exercise 2 _ Error function\n",
    "\n",
    "In this exercise we will regress the fourth feature of the iris dataset agains the first three, using error function minimization. First prepare the data. We will use the function `train_test_split` from `sklearn` (see https://scikit-learn.org/stable/modules/generated/sklearn.model_selection.train_test_split.html) to split the data into training and validation portions. The named argument `random_state=` sets the random seed and makes sure we will get the same split every time."
   ]
  },
  {
   "cell_type": "code",
   "execution_count": 18,
   "metadata": {},
   "outputs": [
    {
     "name": "stderr",
     "output_type": "stream",
     "text": [
      "/Users/mertturhan/anaconda3/lib/python3.11/site-packages/pandas/core/arrays/masked.py:60: UserWarning: Pandas requires version '1.3.6' or newer of 'bottleneck' (version '1.3.5' currently installed).\n",
      "  from pandas.core import (\n"
     ]
    }
   ],
   "source": [
    "from sklearn.datasets import load_iris\n",
    "from sklearn.model_selection import train_test_split\n",
    "\n",
    "iris = load_iris()\n",
    "\n",
    "X_train, X_val, y_train, y_val = train_test_split(iris.data[:,:3], \n",
    "                                                  iris.data[:,3], \n",
    "                                                  test_size=1/3, \n",
    "                                                  random_state=666)"
   ]
  },
  {
   "cell_type": "markdown",
   "metadata": {},
   "source": [
    "Now define the error function on training data:"
   ]
  },
  {
   "cell_type": "code",
   "execution_count": 13,
   "metadata": {},
   "outputs": [],
   "source": [
    "# wb is a list, where the first element is the bias term, and the rest are weights\n",
    "\n",
    "def error(wb):\n",
    "    '''Returns the error as a function of intercept and coefficients'''\n",
    "    \n",
    "    # We'll get the intercept as the fist element of wb, and the coefficients as the rest\n",
    "    b = wb[0]\n",
    "    w = wb[1:]\n",
    "    \n",
    "    # complete the function by returning the sum squared error \n",
    "    return numpy.sum((X_train.dot(w)+b - y_train)**2)"
   ]
  },
  {
   "cell_type": "markdown",
   "metadata": {},
   "source": [
    "Let's define a starting point for the intercept and coefficients"
   ]
  },
  {
   "cell_type": "code",
   "execution_count": 16,
   "metadata": {},
   "outputs": [],
   "source": [
    "# First item is the intercept b, the rest the coefficients w\n",
    "wb0 = numpy.array([0.0, 0.0, 0.0, 0.0])"
   ]
  },
  {
   "cell_type": "markdown",
   "metadata": {},
   "source": [
    "Now we are ready to find the values which minimize the error."
   ]
  },
  {
   "cell_type": "code",
   "execution_count": 19,
   "metadata": {},
   "outputs": [
    {
     "name": "stdout",
     "output_type": "stream",
     "text": [
      "Optimization terminated successfully.\n",
      "         Current function value: 2.869665\n",
      "         Iterations: 5\n",
      "         Function evaluations: 45\n",
      "         Gradient evaluations: 9\n",
      "[-0.26721216 -0.2234636   0.24483245  0.53565652]\n"
     ]
    }
   ],
   "source": [
    "wb_min = fmin_bfgs(error, x0=wb0)\n",
    "print(wb_min)"
   ]
  },
  {
   "cell_type": "markdown",
   "metadata": {},
   "source": [
    "The model that we have calculated above cannot be visualised as it contains >3 dimensions. "
   ]
  },
  {
   "cell_type": "markdown",
   "metadata": {},
   "source": [
    "### Exercise 3 _ MAE and r-squared\n",
    "\n",
    "Let's check how well these parameters do on validation data, in terms of mean absolute error and r-squared. "
   ]
  },
  {
   "cell_type": "code",
   "execution_count": 21,
   "metadata": {},
   "outputs": [
    {
     "name": "stdout",
     "output_type": "stream",
     "text": [
      "r^2 = 0.9151577699341817\n",
      "MAE = 0.16703525210053263\n"
     ]
    }
   ],
   "source": [
    "from sklearn.metrics import r2_score, mean_absolute_error\n",
    "b = wb_min[0]\n",
    "w = wb_min[1:]\n",
    "\n",
    "y_pred_val = X_val.dot(w) + b\n",
    "\n",
    "r2 = r2_score(y_val, y_pred_val)\n",
    "MAE = mean_absolute_error(y_val, y_pred_val)\n",
    "\n",
    "print(f\"r^2 = {r2}\")\n",
    "print(f\"MAE = {MAE}\")"
   ]
  },
  {
   "cell_type": "markdown",
   "metadata": {},
   "source": [
    "### Exercise 4 _ Linear regression\n",
    "Let us compare these results with the classic implementation of linear regression"
   ]
  },
  {
   "cell_type": "code",
   "execution_count": 23,
   "metadata": {},
   "outputs": [
    {
     "name": "stdout",
     "output_type": "stream",
     "text": [
      "weigghts: [-0.22346222  0.24483198  0.53565595]\n",
      "bias: -0.2672166046038509\n",
      "\n",
      "r2 = 0.915157785470172\n",
      "MAE = 0.16703526524839765\n"
     ]
    }
   ],
   "source": [
    "from sklearn.linear_model import LinearRegression\n",
    "\n",
    "model = LinearRegression()\n",
    "model.fit(X_train, y_train)\n",
    "\n",
    "print(f\"weigghts: {model.coef_}\")\n",
    "print(f\"bias: {model.intercept_}\")\n",
    "\n",
    "y_pred_val = model.predict(X_val)\n",
    "\n",
    "\n",
    "r2 = r2_score(y_val, y_pred_val)\n",
    "MAE = mean_absolute_error(y_val, y_pred_val)\n",
    "\n",
    "print(f'\\nr2 = {r2}')\n",
    "print(f'MAE = {MAE}')"
   ]
  },
  {
   "cell_type": "markdown",
   "metadata": {},
   "source": [
    "## Stochastic Gradient Descent\n",
    "\n",
    "Scikit learn provides two classes `SGDRegressor` and `SGDClassifier` which use stochastic gradient descent to carry out linear regression and classification respectively.\n",
    "\n",
    "These models are especially useful in these situations:\n",
    "- with very large datasets\n",
    "- with streaming data (they support online learning)\n",
    "- with datasets with sparse features\n",
    "\n",
    "SGD is sensitive to learning rate and the scale of the features. It's strongly recommended to z-score the features, and to tune the learning rate.\n",
    "Z-scoring refers to subtracting the mean and dividing by standard deviation from each feature. The `sklearn` class `StandardScaler` can be used for this purpose."
   ]
  },
  {
   "cell_type": "code",
   "execution_count": 24,
   "metadata": {},
   "outputs": [],
   "source": [
    "from sklearn.linear_model import SGDRegressor\n",
    "from sklearn.preprocessing import StandardScaler"
   ]
  },
  {
   "cell_type": "markdown",
   "metadata": {},
   "source": [
    "We'll use the dataset of 50,000 songs. The prediction task is to guess the year the song was made based on 90 timbre features extracted from the audio. The year is in the first column."
   ]
  },
  {
   "cell_type": "code",
   "execution_count": 29,
   "metadata": {},
   "outputs": [
    {
     "data": {
      "text/plain": [
       "array([[ 2.001000e+03,  4.994357e+01,  2.147114e+01, ..., -1.822230e+00,\n",
       "        -2.746348e+01,  2.263270e+00],\n",
       "       [ 2.001000e+03,  4.873215e+01,  1.842930e+01, ...,  1.204941e+01,\n",
       "         5.843453e+01,  2.692061e+01],\n",
       "       [ 2.001000e+03,  5.095714e+01,  3.185602e+01, ..., -5.859000e-02,\n",
       "         3.967068e+01, -6.634500e-01],\n",
       "       ...,\n",
       "       [ 1.993000e+03,  4.230121e+01, -4.790029e+01, ...,  1.711098e+01,\n",
       "         7.199619e+01,  8.432290e+00],\n",
       "       [ 1.997000e+03,  4.296844e+01,  1.825597e+01, ..., -6.626300e-01,\n",
       "         4.044356e+01,  1.410070e+01],\n",
       "       [ 1.993000e+03,  4.535490e+01,  2.295720e+00, ...,  3.994640e+00,\n",
       "        -2.103569e+02,  1.233252e+01]], dtype=float32)"
      ]
     },
     "execution_count": 29,
     "metadata": {},
     "output_type": "execute_result"
    }
   ],
   "source": [
    "songs = numpy.load(\"songs50k.npy\")\n",
    "\n",
    "X_train, X_val, y_train, y_val = train_test_split(songs[:,1:], songs[:,0], test_size=1/3, random_state=666)\n",
    "\n",
    "songs"
   ]
  },
  {
   "cell_type": "code",
   "execution_count": 26,
   "metadata": {},
   "outputs": [
    {
     "data": {
      "image/png": "[encoded data removed]",
      "text/plain": [
       "<Figure size 640x480 with 1 Axes>"
      ]
     },
     "metadata": {},
     "output_type": "display_data"
    }
   ],
   "source": [
    "import numpy as np\n",
    "import matplotlib.pyplot as plt\n",
    "\n",
    "_ = plt.hist(songs[:,3], bins='auto')  # arguments are passed to np.histogram\n",
    "plt.title(\"Histogram with 'auto' bins\")\n",
    "plt.show()"
   ]
  },
  {
   "cell_type": "markdown",
   "metadata": {},
   "source": [
    "### Exercise 5 _ SGD regressor\n",
    "\n",
    "Train and evaluate the SGD regressor (we are calculating the MAE on the validation data, which gives us a hint that this is a regression problem) on the songs dataset. Take the following steps:\n",
    "- z-score the training and validation features\n",
    "- find good settings for learning rate type and learning rate initial value.\n",
    "  - r-squared on validation data \n",
    "  - mean absolute error on validation data  "
   ]
  },
  {
   "cell_type": "code",
   "execution_count": 31,
   "metadata": {},
   "outputs": [
    {
     "name": "stdout",
     "output_type": "stream",
     "text": [
      "Best settings according to MAE ('invscaling', 0.001, 6.711348943229326, 0.2092367731529543)\n",
      "Best settings according to R2 ('constant', 1e-05, 6.71282418556013, 0.20994099973830516)\n"
     ]
    }
   ],
   "source": [
    "import warnings\n",
    "warnings.filterwarnings('ignore')\n",
    "\n",
    "scaler = StandardScaler()\n",
    "X_train_scaled = scaler.fit_transform(X_train)\n",
    "X_val_scaled = scaler.transform(X_val)\n",
    "\n",
    "learning_rate = [10 ** i for i in range(-6,1)]\n",
    "\n",
    "settings = []\n",
    "for i in ['constant', 'optimal', 'invscaling']:\n",
    "    for eta0 in learning_rate:\n",
    "        model = SGDRegressor(learning_rate=i, eta0=eta0, random_state=31)\n",
    "        model.fit(X_train_scaled, y_train)\n",
    "        MAE= mean_absolute_error(y_val, model.predict(X_val_scaled))\n",
    "        r2 = r2_score(y_val, model.predict(X_val_scaled))\n",
    "        settings.append((i, eta0, MAE, r2))\n",
    "\n",
    "best_mae = min(settings, key=lambda x: x[-2])\n",
    "best_r2 = max(settings, key=lambda x:x[-1])\n",
    "                      \n",
    "\n",
    "\n",
    "print(\"Best settings according to MAE {}\".format(best_mae))\n",
    "print(\"Best settings according to R2 {}\".format(best_r2))"
   ]
  },
  {
   "cell_type": "markdown",
   "metadata": {},
   "source": [
    "### Exercise 6 _ Loss function\n",
    "\n",
    "By default SGDRegressor tries to minimize the standard linear regression error function, that is sum of squared error. However this can be changed, via the `loss=` parameter. When `loss='squared_loss'`, sum of squared errors will be used. Other error functions available include [Huber loss](https://en.wikipedia.org/wiki/Huber_loss) (`loss='huber'`). Compared to squared loss, huber focuses less on outliers.\n",
    "![](https://upload.wikimedia.org/wikipedia/commons/thumb/c/cc/Huber_loss.svg/600px-Huber_loss.svg.png)\n",
    "\n",
    "Repeat the steps from the previous exercise, but include the tuning of the loss function."
   ]
  },
  {
   "cell_type": "code",
   "execution_count": 33,
   "metadata": {},
   "outputs": [
    {
     "name": "stdout",
     "output_type": "stream",
     "text": [
      "Best settings according to MAE ('invscaling', 0.1, 'huber', 6.407019736829563, 0.15690458714573696)\n",
      "Best settings according to R2 ('constant', 1e-05, 'squared_error', 6.711738976203745, 0.20997515096879837)\n"
     ]
    }
   ],
   "source": [
    "losses = []\n",
    "\n",
    "for i in ['constant', 'optimal', 'invscaling']:\n",
    "    for l in ['squared_error', 'huber']:\n",
    "        for eta0 in learning_rate:\n",
    "            model=SGDRegressor(learning_rate=i, eta0=eta0, loss=l, random_state=45)\n",
    "            model.fit(X_train_scaled, y_train)\n",
    "            MAE = mean_absolute_error(y_val, model.predict(X_val_scaled))\n",
    "            r2 = r2_score(y_val, model.predict(X_val_scaled))\n",
    "            losses.append((i, eta0, l, MAE, r2))\n",
    "\n",
    "            \n",
    "best_mae_ = min(losses, key=lambda x:x[-2])    \n",
    "best_r2_ = max(losses, key=lambda x:x[-1])\n",
    "\n",
    "print(\"Best settings according to MAE {}\".format(best_mae_))\n",
    "print(\"Best settings according to R2 {}\".format(best_r2_))"
   ]
  },
  {
   "cell_type": "code",
   "execution_count": null,
   "metadata": {},
   "outputs": [],
   "source": []
  }
 ],
 "metadata": {
  "kernelspec": {
   "display_name": "Python 3 (ipykernel)",
   "language": "python",
   "name": "python3"
  },
  "language_info": {
   "codemirror_mode": {
    "name": "ipython",
    "version": 3
   },
   "file_extension": ".py",
   "mimetype": "text/x-python",
   "name": "python",
   "nbconvert_exporter": "python",
   "pygments_lexer": "ipython3",
   "version": "3.11.5"
  }
 },
 "nbformat": 4,
 "nbformat_minor": 4
}
