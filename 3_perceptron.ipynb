{
 "cells": [
  {
   "cell_type": "markdown",
   "metadata": {},
   "source": [
    "# Perceptron\n",
    "\n",
    "In this session we will implement the Perceprton algorithm from scratch. This notebook contains the following parts:\n",
    "\n",
    "1) Reading the data\n",
    "\n",
    "2) Vector operations\n",
    "\n",
    "3) Implementing the Perceptron algorithm\n",
    "\n",
    "## 1) Reading the data\n",
    "\n",
    "The data we will use to test our implementation is a collection of movie reviews, each associated with a rating. The data comes in a pre-processed form, with the features extracted, and has the following string format:\n",
    "\n",
    "```\n",
    "target feature_1:feature_value1 features_2:value_2 ...\n",
    "\n",
    "```\n",
    "\n",
    "For example:\n",
    "\n",
    "```\n",
    "1 0:2.0 3:4.0 123:1.0\n",
    "```\n",
    "This means the example's target label is 1, features 0 is 2.0, feature\n",
    "3 is 4.0, feature 123 is 1.0 (all the other features are implicitly\n",
    "0.0). The features are word counts.\n",
    "\n",
    "Let us first print the first few lines of the data file in order to check the format. The cell below reads and prints the first 3 lines of the data."
   ]
  },
  {
   "cell_type": "code",
   "execution_count": 73,
   "metadata": {},
   "outputs": [
    {
     "name": "stdout",
     "output_type": "stream",
     "text": [
      "9 0:9 1:1 2:4 3:4 4:6 5:4 6:2 7:2 8:4 10:4 12:2 26:1 27:1 28:1 29:2 32:1 41:1 45:1 47:1 50:1 54:2 57:1 59:1 63:2 64:1 66:1 68:2 70:1 72:1 78:1 100:1 106:1 116:1 122:1 125:1 136:1 140:1 142:1 150:1 167:1 183:1 201:1 207:1 208:1 213:1 217:1 230:1 255:1 321:5 343:1 357:1 370:1 390:2 468:1 514:1 571:1 619:1 671:1 766:1 877:1 1057:1 1179:1 1192:1 1402:2 1416:1 1477:2 1940:1 1941:1 2096:1 2243:1 2285:1 2379:1 2934:1 2938:1 3520:1 3647:1 4938:1 5138:4 5715:1 5726:1 5731:1 5812:1 8319:1 8567:1 10480:1 14239:1 20604:1 22409:4 24551:1 47304:1\n",
      "\n",
      "7 0:7 1:4 2:2 3:2 5:4 6:1 8:2 9:2 14:1 16:1 18:1 20:1 22:1 24:1 27:1 29:1 34:1 36:3 37:2 41:1 42:1 48:3 52:2 79:2 91:1 100:1 106:1 119:1 154:1 166:1 172:1 207:1 288:1 321:1 336:1 353:1 365:1 383:1 386:2 390:1 429:1 504:1 517:1 706:1 729:1 748:1 911:1 1107:1 1195:1 1332:1 1433:1 1620:1 1662:1 2047:1 2365:1 2390:1 2673:1 3111:1 3230:1 3513:1 4065:1 4357:1 5138:1 5365:1 5884:1 6617:1 11023:1 11392:1 11798:1 12318:1 12831:1 13645:1 18316:1 22409:1 22496:1 27245:1 28840:1 30533:2 32289:1 33606:1 44792:1 48240:1 48538:1 53958:1 54537:1 54675:1 62726:1 71743:1 87805:1\n",
      "\n",
      "9 0:4 1:4 2:4 3:7 4:2 5:1 6:1 7:1 9:1 10:1 13:1 14:1 19:1 20:2 22:1 25:1 27:1 29:1 34:1 39:1 42:1 44:1 49:1 76:1 91:1 97:1 101:1 118:1 123:1 148:1 156:1 171:3 176:1 237:1 242:1 253:1 276:1 288:1 321:2 342:1 345:1 370:1 390:1 509:1 680:1 682:1 840:2 860:1 872:2 916:1 972:1 1009:1 1010:1 1180:1 1195:1 1205:1 1477:1 1531:1 1790:1 1873:1 1990:1 2053:1 2067:1 2081:1 2099:1 2453:1 2511:1 2714:1 2924:1 3108:1 3514:1 3533:1 3781:1 4030:1 4263:1 5068:1 5138:1 5254:1 5268:2 6097:1 6611:1 8373:1 8950:1 15061:1 15594:1 20571:1 22409:2 23279:1 30533:1 48240:1 48538:1\n",
      "\n"
     ]
    }
   ],
   "source": [
    "for index, line in enumerate(open('sentiment.feat')):\n",
    "    if index < 3:\n",
    "        print(line)"
   ]
  },
  {
   "cell_type": "markdown",
   "metadata": {},
   "source": [
    "We will start by writing some code to work with this data.\n",
    "\n",
    "\n",
    "## Exercise 1 _ Binarize\n",
    "\n",
    "We want to work with binary labels (positive vs negative) but we have integer ratings (0 to 10). We will convert the ratings to binary labels using 5 as a threshold: is the rating is higher, the label will be positive, otherwise it'll be negative.\n",
    "\n",
    "Define function ``binarize``. The function should accept a list of numeric\n",
    "ratings, and return a list of class labels -1 and 1.\n"
   ]
  },
  {
   "cell_type": "code",
   "execution_count": 74,
   "metadata": {},
   "outputs": [
    {
     "name": "stdout",
     "output_type": "stream",
     "text": [
      "[-1, -1, -1, -1, -1, -1, 1, 1, 1, 1, 1]\n"
     ]
    }
   ],
   "source": [
    "def binarize(y):\n",
    "    return [1 if i>5 else -1 for i in y]\n",
    "\n",
    "y = list(range(0,11))\n",
    "print(binarize(y))"
   ]
  },
  {
   "cell_type": "markdown",
   "metadata": {},
   "source": [
    "## Exercise 2 _ Parse line\n",
    "\n",
    "Define function ``parse_line`` which extracts the target label and\n",
    "feature values of a training example from a string. Your function should return two values:\n",
    "\n",
    "- a dictionary mapping features (as ints) to values (as floats)\n",
    "- the target label (as int)"
   ]
  },
  {
   "cell_type": "code",
   "execution_count": 75,
   "metadata": {},
   "outputs": [
    {
     "name": "stdout",
     "output_type": "stream",
     "text": [
      "({0: 2.0, 3: 4.0, 123: 1.0}, 1)\n"
     ]
    }
   ],
   "source": [
    "def parse_line(line):\n",
    "    def parse_feature(x):\n",
    "        key, val = x.split(':')\n",
    "        return(int(key), float(val))\n",
    "    fields=line.split()\n",
    "    y = int(fields[0])\n",
    "    x = dict([parse_feature(i) for i in fields[1:]])\n",
    "    return x,y\n",
    "    \n",
    "line = '1 0:2.0 3:4.0 123:1.0\\n'\n",
    "print(parse_line(line))"
   ]
  },
  {
   "cell_type": "markdown",
   "metadata": {},
   "source": [
    "Once we have these two functions, we can read our dataset from the input file."
   ]
  },
  {
   "cell_type": "code",
   "execution_count": 76,
   "metadata": {},
   "outputs": [],
   "source": [
    "import random\n",
    "random.seed(123)\n",
    "def prepare_data():\n",
    "    \"\"\"Read data from input file, shuffle and return a list of training examples.\"\"\"\n",
    "    # Sample 10% of data so we don't crash the server\n",
    "    train = []\n",
    "    for line in open('sentiment.feat'):\n",
    "        if random.random() >= 0.9:\n",
    "            train.append(parse_line(line))\n",
    "    \n",
    "    # We will shuffle the examples so that we have a mixture of positive and negative cases\n",
    "    random.shuffle(train)\n",
    "    # We unzip the data into input features and target labels\n",
    "    X, Z = list(zip(*train))\n",
    "    # We binarize the labels\n",
    "    Y = binarize(Z)\n",
    "    return list(zip(X,Y))"
   ]
  },
  {
   "cell_type": "code",
   "execution_count": 77,
   "metadata": {},
   "outputs": [
    {
     "name": "stdout",
     "output_type": "stream",
     "text": [
      "We have 2547 examples\n"
     ]
    }
   ],
   "source": [
    "XY = prepare_data()\n",
    "print(\"We have {} examples\".format(len(XY)))"
   ]
  },
  {
   "cell_type": "markdown",
   "metadata": {},
   "source": [
    "The variable ``XY`` contains the list of examples, where each example is a \n",
    "tuple with the input in the first position and the target in the second position.\n"
   ]
  },
  {
   "cell_type": "markdown",
   "metadata": {},
   "source": [
    "## 2) Vector operations\n",
    "\n",
    "Our inputs are word counts and therefore sparse: most feature values are zero. For this reason we are representing these feature vectors as Python dictionaries where we will record the non-zero values, and treat the zero values as implicit. We now need to implement the vector operations needed for the Perceptron algorithm for the dictionary representation."
   ]
  },
  {
   "cell_type": "markdown",
   "metadata": {},
   "source": [
    "## Exercise 3 _ Dot product\n",
    "\n",
    "Define the function ``dot`` which calculates the dot (or inner) product of two\n",
    "vectors. This function should work on vectors represented as\n",
    "dictionaries: any missing key in the dictionary is implicitly equal to\n",
    "0.0. In order to compute the dot product, you need to multiply the\n",
    "values at the corresponding keys together, and sum all the results.\n",
    "This function can assume that the vector with more non-zero entries\n",
    "(i.e. dictionary with more keys) will be the first argument. This\n",
    "is useful for efficiency.\n"
   ]
  },
  {
   "cell_type": "code",
   "execution_count": 78,
   "metadata": {},
   "outputs": [
    {
     "name": "stdout",
     "output_type": "stream",
     "text": [
      "-6.5\n"
     ]
    }
   ],
   "source": [
    "def dot(big, small):\n",
    "    s= 0.0\n",
    "    for k,v in small.items():\n",
    "        s = s+v * big.get(k,0)\n",
    "    return s\n",
    "\n",
    "u = {0:0.5, 1:2.0, 2:-2.5}\n",
    "v = {0:-0.5, 2:2.5, 3:0.5}\n",
    "print(dot(u, v))"
   ]
  },
  {
   "cell_type": "markdown",
   "metadata": {},
   "source": [
    "## Exercise 4 _ Increment\n",
    "\n",
    "Define function ``increment`` which modifies a vector by adding\n",
    "another vector to it. The two vectors are given as dictionaries:\n",
    "\n",
    "- `u` - the vector to be modified (as a dictionary)\n",
    "- `v` - the vector (as a dictionary) which should be added to `u` \n",
    "\n",
    "This function should not return anything, but it should modify `u` so\n",
    "that it contains the union of the keys present in the two vectors. The\n",
    "value at each key should be the sum of the values at this key in the\n",
    "two vectors. Remember that if a key is missing from the dictionary\n",
    "representing the vector, the value is implicitly equal to 0.0.\n",
    "\n",
    "Note: a function (like ``increment``) which changes one of its inputs is called **destructive**."
   ]
  },
  {
   "cell_type": "code",
   "execution_count": 79,
   "metadata": {},
   "outputs": [
    {
     "name": "stdout",
     "output_type": "stream",
     "text": [
      "{0: 0.0, 1: 2.0, 2: 0.0, 3: 0.5}\n",
      "{0: 0.5, 1: 2.0, 2: -2.5}\n"
     ]
    }
   ],
   "source": [
    "def increment(big, small):\n",
    "    for k,v in small.items():\n",
    "        big[k] = big.get(k,0.0) + v\n",
    "        \n",
    "        \n",
    "u = {0:0.5, 1:2.0, 2:-2.5}\n",
    "v = {0:-0.5, 2:2.5, 3:0.5}\n",
    "increment(u, v)\n",
    "print(u) \n",
    "u = {0:0.5, 1:2.0, 2:-2.5}\n",
    "w = {}\n",
    "increment(u, w)\n",
    "print(u)\n"
   ]
  },
  {
   "cell_type": "markdown",
   "metadata": {},
   "source": [
    "## Exercise 5 _ Scale\n",
    "\n",
    "Define function ``scale`` which takes a vector `u` (as a dictionary)\n",
    "and a number `n`, and returns a new vector dictionary which contains\n",
    "the values in vector `u` multiplied by `n`. This function should not\n",
    "modify its arguments, but should return a new dictionary. Note: the function\n",
    "``increment`` combined with the function ``scale`` can be used to\n",
    "represent vector substraction (``decrement``)."
   ]
  },
  {
   "cell_type": "code",
   "execution_count": 80,
   "metadata": {},
   "outputs": [
    {
     "name": "stdout",
     "output_type": "stream",
     "text": [
      "{0: 1.0, 1: 4.0, 2: -5.0}\n",
      "{0: 0.5, 1: 2.0, 2: -2.5}\n",
      "{0: 1.0, 1: 2.0, 2: -5.0, 3: -0.5}\n"
     ]
    }
   ],
   "source": [
    "def scale(u, n):\n",
    "    results = {}\n",
    "    for k, v in u.items():\n",
    "        results[k] = v*n\n",
    "    return results\n",
    "\n",
    "u = {0:0.5, 1:2.0, 2:-2.5}\n",
    "v = {0:-0.5, 2:2.5, 3:0.5}\n",
    "n = 2.0\n",
    "print(scale(u, n))\n",
    "print(u) # u should be unchanged\n",
    "u = {0:0.5, 1:2.0, 2:-2.5}\n",
    "v = {0:-0.5, 2:2.5, 3:0.5}\n",
    "increment(u, scale(v, -1.0))\n",
    "print(u)\n"
   ]
  },
  {
   "cell_type": "markdown",
   "metadata": {
    "collapsed": true
   },
   "source": [
    "## 3) Implementing the Perceptron algorithm\n",
    "\n",
    "We will now start implementing the Perceptron algorithm. We will use a dictionary to keep the weights and the bias of the model. We'll initialize the bias to zero, and the weights to a vector of all zeros (represented as an empty dictionary). During training, we will update the values as we learn.\n"
   ]
  },
  {
   "cell_type": "code",
   "execution_count": 81,
   "metadata": {},
   "outputs": [],
   "source": [
    "def initialize():\n",
    "    w = {}\n",
    "    b = 0.0\n",
    "    return {'w':w,'b':b}\n",
    "\n",
    "model = initialize()"
   ]
  },
  {
   "cell_type": "markdown",
   "metadata": {},
   "source": [
    "## Exercise 6 _ Predict\n",
    "\n",
    "Define function ``predict`` which takes two arguments: \n",
    "\n",
    "- `model` - the dictionary representation of the perceptron model with\n",
    "  keys 'w' for weights and 'b' for the bias\n",
    "- `x` - new input (as a dictionary)\n",
    "\n",
    "It should return the predicted target for the input `x`: it should\n",
    "compute the discriminant function `wx + b` and predict 1 if it is\n",
    "greater than or equal to 0, and -1 otherwise.\n",
    "\n"
   ]
  },
  {
   "cell_type": "code",
   "execution_count": 82,
   "metadata": {},
   "outputs": [
    {
     "name": "stdout",
     "output_type": "stream",
     "text": [
      "1\n"
     ]
    }
   ],
   "source": [
    "def predict(model, x):\n",
    "    gx = dot(model['w'],x) + model['b']\n",
    "    return 1 if gx>=0 else -1\n",
    "    \n",
    "\n",
    "x = u = {0:0.5, 1:2.0, 2:-2.5}\n",
    "model = initialize()\n",
    "print(predict(model, x))"
   ]
  },
  {
   "cell_type": "markdown",
   "metadata": {},
   "source": [
    "## Exercise 7 _ Update\n",
    "\n",
    "We will now implement the update functionality of the perceptron\n",
    "algorithm. You need to code the function ``update``, which is given a\n",
    "training example, and first uses the ``predict`` function to guess\n",
    "the target, then updates the weights and the bias of the model\n",
    "depending on whether the guess is correct or incorrect, and on the\n",
    "direction of the mistake. Finally, the function should return the\n",
    "guess. ``update`` is given two arguments:\n",
    "\n",
    "- `model` - this is the dictionary with keys 'w' (with weights) and\n",
    "  'b' (with the bias)\n",
    "- `xy` - this is the pair `(x,y)` where `x` is the input vector (as a\n",
    "  dictionary) and `y` is the target (-1 or 1, as an int).\n",
    "\n",
    "Details of the perceptron update rule are shown in the lecture slides\n",
    "for Session 4.\n",
    "\n",
    "Hints:\n",
    "\n",
    "- You can use the function  ``predict`` to make the guess.\n",
    "- When updating the weights, use the function ``increment``\n",
    "    (possibly with combination with ``scale``) to add the example\n",
    "    input to (or subtract it from) the model weights.\n",
    "\n",
    "Note: this function is destructive because it modifies its first argument."
   ]
  },
  {
   "cell_type": "code",
   "execution_count": 83,
   "metadata": {},
   "outputs": [
    {
     "name": "stdout",
     "output_type": "stream",
     "text": [
      "1\n",
      "{'w': {0: -7.0, 1: -4.0, 3: -4.0, 4: -2.0, 5: -2.0, 11: -3.0}, 'b': -1.0}\n"
     ]
    }
   ],
   "source": [
    "def update(model, xy):\n",
    "    x,y=xy\n",
    "    y_pred = predict(model, x)\n",
    "    if y_pred==1 and y==-1:\n",
    "        increment(model['w'], scale(x,-1))\n",
    "        model['b'] = model['b']-1\n",
    "    elif y_pred==-1 and y==1:\n",
    "        increment(model['w'], x)\n",
    "        model['b'] = model['b'] +1\n",
    "    return y_pred\n",
    "\n",
    "x = { 0: 7.0, 1: 4.0, 3: 4.0, 4: 2.0, 5: 2.0, 11: 3.0 }\n",
    "y = -1\n",
    "model = initialize()\n",
    "y_pred = update(model, (x,y))\n",
    "print(y_pred)\n",
    "print(model)"
   ]
  },
  {
   "cell_type": "markdown",
   "metadata": {},
   "source": [
    "## Exercise 8 _ Learn\n",
    "\n",
    "Now you'll implement the function ``learn`` will processes each\n",
    "training example, generates a guess, and makes an update (using the\n",
    "``update`` function from Exercise 7). Finally it will return the list of\n",
    "guesses made. This function is given 2 arguments:\n",
    "\n",
    "- `model` - the dictionary representing the perceptron model\n",
    "- `XY` - the list of the training examples, where each example is a\n",
    "  tuple `(x, y)`, `x` being the input vector dictionary and `y` the\n",
    "  target (1 or -1)\n",
    "\n",
    "\n",
    "You can implement this function following these steps:\n",
    "\n",
    "- Initialize the list of guesses to an empty list\n",
    "- For each training example `(x,y)`\n",
    "  \n",
    "   - get a guess using the ``update`` function with the `model`\n",
    "   - add this guess to the list of guesses\n",
    "   \n",
    "- Return the complete list of guesses.\n"
   ]
  },
  {
   "cell_type": "code",
   "execution_count": 84,
   "metadata": {},
   "outputs": [],
   "source": [
    "def learn(model, XY):\n",
    "    predictions = []\n",
    "    for i in range(len(XY)):\n",
    "        x_i,y_i =XY[i]\n",
    "        y_pred =update(model, (x_i,y_i))\n",
    "        predictions.append(y_pred)\n",
    "    return predictions"
   ]
  },
  {
   "cell_type": "markdown",
   "metadata": {},
   "source": [
    "## Exercise 9 _ Evaluate\n",
    "\n",
    "In order to test our algorithm we will define function ``evaluate``, which takes the list of true class labels,\n",
    "another list with predicted class labels, and returns a tuple with\n",
    "three elements:\n",
    "\n",
    "- total number of errors\n",
    "- total number of labels  \n",
    "- error rate"
   ]
  },
  {
   "cell_type": "code",
   "execution_count": 85,
   "metadata": {},
   "outputs": [
    {
     "name": "stdout",
     "output_type": "stream",
     "text": [
      "(2, 5, 0.4)\n",
      "(0, 5, 0.0)\n"
     ]
    }
   ],
   "source": [
    "def evaluate(gold, predicted):\n",
    "    N = len(gold)\n",
    "    errors = sum(1 if p!=y else 0 for p,y in zip(predicted,gold))\n",
    "    return(errors, N, errors / N)\n",
    "y_true = [-1,-1,1,1,1]\n",
    "y_pred = [-1,1,1,1,-1]\n",
    "print(evaluate(y_true, y_pred))\n",
    "print(evaluate(y_true, y_true))\n"
   ]
  },
  {
   "cell_type": "markdown",
   "metadata": {},
   "source": [
    "## Running\n",
    "\n",
    "Let's do a pass of perceptron learnng over the first 2000 examples."
   ]
  },
  {
   "cell_type": "code",
   "execution_count": 86,
   "metadata": {},
   "outputs": [],
   "source": [
    "XY_train = XY[:2000]\n",
    "Y_true = [ xy[1] for xy in XY_train ]\n",
    "model = initialize()\n",
    "Y_pred = learn(model, XY_train)"
   ]
  },
  {
   "cell_type": "markdown",
   "metadata": {},
   "source": [
    "Let's check how good the guesses made during training were."
   ]
  },
  {
   "cell_type": "code",
   "execution_count": 88,
   "metadata": {},
   "outputs": [
    {
     "name": "stdout",
     "output_type": "stream",
     "text": [
      "(731, 2000, 0.3655)\n"
     ]
    }
   ],
   "source": [
    "print(evaluate(Y_true, Y_pred))"
   ]
  },
  {
   "cell_type": "markdown",
   "metadata": {},
   "source": [
    "## Multiple passes\n",
    "\n",
    "We can run the model over the data a few times and monitor the performance on the second part of the data.\n"
   ]
  },
  {
   "cell_type": "code",
   "execution_count": 89,
   "metadata": {},
   "outputs": [
    {
     "name": "stdout",
     "output_type": "stream",
     "text": [
      "Pass  err_tr err_dev\n",
      "  1   0.365   0.298\n",
      "  2   0.224   0.272\n",
      "  3   0.187   0.254\n",
      "  4   0.154   0.194\n",
      "  5   0.139   0.199\n"
     ]
    }
   ],
   "source": [
    "def run(XY, passes=1):\n",
    "    XY_train = XY[:2000]\n",
    "    XY_dev   = XY[2000:]\n",
    "    Y_train = [ xy[1] for xy in XY_train ]\n",
    "    Y_dev   = [ xy[1] for xy in XY_dev ]\n",
    "    model = initialize()\n",
    "    print(\"{:>3s} {:>7s} {:>7s}\".format(\"Pass\", \"err_tr\", \"err_dev\"))\n",
    "    for i in range(1, passes+1):\n",
    "        predicted_train = learn(model, XY_train)\n",
    "        _, _, rate_train = evaluate(Y_train, predicted_train)\n",
    "        predicted_dev = [ predict(model, x) for (x,_) in XY_dev ]\n",
    "        _, _, rate_dev = evaluate(Y_dev, predicted_dev)\n",
    "        print(\"{:3d} {:7.3f} {:7.3f}\".format(i, rate_train, rate_dev))\n",
    "        \n",
    "run(XY, passes=5)        "
   ]
  }
 ],
 "metadata": {
  "kernelspec": {
   "display_name": "Python 3 (ipykernel)",
   "language": "python",
   "name": "python3"
  },
  "language_info": {
   "codemirror_mode": {
    "name": "ipython",
    "version": 3
   },
   "file_extension": ".py",
   "mimetype": "text/x-python",
   "name": "python",
   "nbconvert_exporter": "python",
   "pygments_lexer": "ipython3",
   "version": "3.11.5"
  }
 },
 "nbformat": 4,
 "nbformat_minor": 1
}
